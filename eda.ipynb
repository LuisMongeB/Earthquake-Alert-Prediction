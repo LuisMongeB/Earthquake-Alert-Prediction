{
 "cells": [
  {
   "attachments": {},
   "cell_type": "markdown",
   "metadata": {},
   "source": [
    "# Earthquake dataset \n",
    "\n",
    "    - understand sig, net, nst and dmin\n",
    "    - fill in country with location\n",
    "    - check for outliers\n",
    "    - visualize as map with circles with size according to magnitude \n",
    "    "
   ]
  },
  {
   "attachments": {},
   "cell_type": "markdown",
   "metadata": {},
   "source": [
    "## Imports"
   ]
  },
  {
   "cell_type": "code",
   "execution_count": 1,
   "metadata": {},
   "outputs": [],
   "source": [
    "import pandas as pd\n",
    "import numpy as np\n",
    "import matplotlib.pyplot as plt\n",
    "import seaborn as sns"
   ]
  },
  {
   "attachments": {},
   "cell_type": "markdown",
   "metadata": {},
   "source": [
    "## Reading dataset"
   ]
  },
  {
   "cell_type": "code",
   "execution_count": 2,
   "metadata": {},
   "outputs": [
    {
     "data": {
      "text/html": [
       "<div>\n",
       "<style scoped>\n",
       "    .dataframe tbody tr th:only-of-type {\n",
       "        vertical-align: middle;\n",
       "    }\n",
       "\n",
       "    .dataframe tbody tr th {\n",
       "        vertical-align: top;\n",
       "    }\n",
       "\n",
       "    .dataframe thead th {\n",
       "        text-align: right;\n",
       "    }\n",
       "</style>\n",
       "<table border=\"1\" class=\"dataframe\">\n",
       "  <thead>\n",
       "    <tr style=\"text-align: right;\">\n",
       "      <th></th>\n",
       "      <th>title</th>\n",
       "      <th>magnitude</th>\n",
       "      <th>date_time</th>\n",
       "      <th>cdi</th>\n",
       "      <th>mmi</th>\n",
       "      <th>alert</th>\n",
       "      <th>tsunami</th>\n",
       "      <th>sig</th>\n",
       "      <th>net</th>\n",
       "      <th>nst</th>\n",
       "      <th>dmin</th>\n",
       "      <th>gap</th>\n",
       "      <th>magType</th>\n",
       "      <th>depth</th>\n",
       "      <th>latitude</th>\n",
       "      <th>longitude</th>\n",
       "      <th>location</th>\n",
       "      <th>continent</th>\n",
       "      <th>country</th>\n",
       "    </tr>\n",
       "  </thead>\n",
       "  <tbody>\n",
       "    <tr>\n",
       "      <th>0</th>\n",
       "      <td>M 7.0 - 18 km SW of Malango, Solomon Islands</td>\n",
       "      <td>7.0</td>\n",
       "      <td>22-11-2022 02:03</td>\n",
       "      <td>8</td>\n",
       "      <td>7</td>\n",
       "      <td>green</td>\n",
       "      <td>1</td>\n",
       "      <td>768</td>\n",
       "      <td>us</td>\n",
       "      <td>117</td>\n",
       "      <td>0.509</td>\n",
       "      <td>17.0</td>\n",
       "      <td>mww</td>\n",
       "      <td>14.000</td>\n",
       "      <td>-9.7963</td>\n",
       "      <td>159.596</td>\n",
       "      <td>Malango, Solomon Islands</td>\n",
       "      <td>Oceania</td>\n",
       "      <td>Solomon Islands</td>\n",
       "    </tr>\n",
       "    <tr>\n",
       "      <th>1</th>\n",
       "      <td>M 6.9 - 204 km SW of Bengkulu, Indonesia</td>\n",
       "      <td>6.9</td>\n",
       "      <td>18-11-2022 13:37</td>\n",
       "      <td>4</td>\n",
       "      <td>4</td>\n",
       "      <td>green</td>\n",
       "      <td>0</td>\n",
       "      <td>735</td>\n",
       "      <td>us</td>\n",
       "      <td>99</td>\n",
       "      <td>2.229</td>\n",
       "      <td>34.0</td>\n",
       "      <td>mww</td>\n",
       "      <td>25.000</td>\n",
       "      <td>-4.9559</td>\n",
       "      <td>100.738</td>\n",
       "      <td>Bengkulu, Indonesia</td>\n",
       "      <td>NaN</td>\n",
       "      <td>NaN</td>\n",
       "    </tr>\n",
       "    <tr>\n",
       "      <th>2</th>\n",
       "      <td>M 7.0 -</td>\n",
       "      <td>7.0</td>\n",
       "      <td>12-11-2022 07:09</td>\n",
       "      <td>3</td>\n",
       "      <td>3</td>\n",
       "      <td>green</td>\n",
       "      <td>1</td>\n",
       "      <td>755</td>\n",
       "      <td>us</td>\n",
       "      <td>147</td>\n",
       "      <td>3.125</td>\n",
       "      <td>18.0</td>\n",
       "      <td>mww</td>\n",
       "      <td>579.000</td>\n",
       "      <td>-20.0508</td>\n",
       "      <td>-178.346</td>\n",
       "      <td>NaN</td>\n",
       "      <td>Oceania</td>\n",
       "      <td>Fiji</td>\n",
       "    </tr>\n",
       "    <tr>\n",
       "      <th>3</th>\n",
       "      <td>M 7.3 - 205 km ESE of Neiafu, Tonga</td>\n",
       "      <td>7.3</td>\n",
       "      <td>11-11-2022 10:48</td>\n",
       "      <td>5</td>\n",
       "      <td>5</td>\n",
       "      <td>green</td>\n",
       "      <td>1</td>\n",
       "      <td>833</td>\n",
       "      <td>us</td>\n",
       "      <td>149</td>\n",
       "      <td>1.865</td>\n",
       "      <td>21.0</td>\n",
       "      <td>mww</td>\n",
       "      <td>37.000</td>\n",
       "      <td>-19.2918</td>\n",
       "      <td>-172.129</td>\n",
       "      <td>Neiafu, Tonga</td>\n",
       "      <td>NaN</td>\n",
       "      <td>NaN</td>\n",
       "    </tr>\n",
       "    <tr>\n",
       "      <th>4</th>\n",
       "      <td>M 6.6 -</td>\n",
       "      <td>6.6</td>\n",
       "      <td>09-11-2022 10:14</td>\n",
       "      <td>0</td>\n",
       "      <td>2</td>\n",
       "      <td>green</td>\n",
       "      <td>1</td>\n",
       "      <td>670</td>\n",
       "      <td>us</td>\n",
       "      <td>131</td>\n",
       "      <td>4.998</td>\n",
       "      <td>27.0</td>\n",
       "      <td>mww</td>\n",
       "      <td>624.464</td>\n",
       "      <td>-25.5948</td>\n",
       "      <td>178.278</td>\n",
       "      <td>NaN</td>\n",
       "      <td>NaN</td>\n",
       "      <td>NaN</td>\n",
       "    </tr>\n",
       "  </tbody>\n",
       "</table>\n",
       "</div>"
      ],
      "text/plain": [
       "                                          title  magnitude         date_time  \\\n",
       "0  M 7.0 - 18 km SW of Malango, Solomon Islands        7.0  22-11-2022 02:03   \n",
       "1      M 6.9 - 204 km SW of Bengkulu, Indonesia        6.9  18-11-2022 13:37   \n",
       "2                                      M 7.0 -         7.0  12-11-2022 07:09   \n",
       "3           M 7.3 - 205 km ESE of Neiafu, Tonga        7.3  11-11-2022 10:48   \n",
       "4                                      M 6.6 -         6.6  09-11-2022 10:14   \n",
       "\n",
       "   cdi  mmi  alert  tsunami  sig net  nst   dmin   gap magType    depth  \\\n",
       "0    8    7  green        1  768  us  117  0.509  17.0     mww   14.000   \n",
       "1    4    4  green        0  735  us   99  2.229  34.0     mww   25.000   \n",
       "2    3    3  green        1  755  us  147  3.125  18.0     mww  579.000   \n",
       "3    5    5  green        1  833  us  149  1.865  21.0     mww   37.000   \n",
       "4    0    2  green        1  670  us  131  4.998  27.0     mww  624.464   \n",
       "\n",
       "   latitude  longitude                  location continent          country  \n",
       "0   -9.7963    159.596  Malango, Solomon Islands   Oceania  Solomon Islands  \n",
       "1   -4.9559    100.738       Bengkulu, Indonesia       NaN              NaN  \n",
       "2  -20.0508   -178.346                       NaN   Oceania             Fiji  \n",
       "3  -19.2918   -172.129             Neiafu, Tonga       NaN              NaN  \n",
       "4  -25.5948    178.278                       NaN       NaN              NaN  "
      ]
     },
     "execution_count": 2,
     "metadata": {},
     "output_type": "execute_result"
    }
   ],
   "source": [
    "quakes = pd.read_csv('data/earthquake_data.csv')\n",
    "quakes.head()"
   ]
  },
  {
   "attachments": {},
   "cell_type": "markdown",
   "metadata": {},
   "source": [
    "Some nan's are already present in the first five rows, but some can be filled later instead of dropping by taking it from the location column:"
   ]
  },
  {
   "cell_type": "code",
   "execution_count": 4,
   "metadata": {},
   "outputs": [
    {
     "name": "stdout",
     "output_type": "stream",
     "text": [
      "Rows: 782 | Features: 19\n",
      "title          0\n",
      "magnitude      0\n",
      "date_time      0\n",
      "cdi            0\n",
      "mmi            0\n",
      "alert        367\n",
      "tsunami        0\n",
      "sig            0\n",
      "net            0\n",
      "nst            0\n",
      "dmin           0\n",
      "gap            0\n",
      "magType        0\n",
      "depth          0\n",
      "latitude       0\n",
      "longitude      0\n",
      "location       5\n",
      "continent    576\n",
      "country      298\n",
      "dtype: int64\n"
     ]
    }
   ],
   "source": [
    "print(f\"Rows: {quakes.shape[0]} | Features: {quakes.shape[1]}\")\n",
    "print(quakes.isna().sum())"
   ]
  },
  {
   "attachments": {},
   "cell_type": "markdown",
   "metadata": {},
   "source": [
    "## Descriptive statistics"
   ]
  },
  {
   "cell_type": "code",
   "execution_count": 6,
   "metadata": {},
   "outputs": [
    {
     "data": {
      "text/html": [
       "<div>\n",
       "<style scoped>\n",
       "    .dataframe tbody tr th:only-of-type {\n",
       "        vertical-align: middle;\n",
       "    }\n",
       "\n",
       "    .dataframe tbody tr th {\n",
       "        vertical-align: top;\n",
       "    }\n",
       "\n",
       "    .dataframe thead th {\n",
       "        text-align: right;\n",
       "    }\n",
       "</style>\n",
       "<table border=\"1\" class=\"dataframe\">\n",
       "  <thead>\n",
       "    <tr style=\"text-align: right;\">\n",
       "      <th></th>\n",
       "      <th>count</th>\n",
       "      <th>mean</th>\n",
       "      <th>std</th>\n",
       "      <th>min</th>\n",
       "      <th>25%</th>\n",
       "      <th>50%</th>\n",
       "      <th>75%</th>\n",
       "      <th>max</th>\n",
       "    </tr>\n",
       "  </thead>\n",
       "  <tbody>\n",
       "    <tr>\n",
       "      <th>magnitude</th>\n",
       "      <td>782.0</td>\n",
       "      <td>6.941125</td>\n",
       "      <td>0.445514</td>\n",
       "      <td>6.5000</td>\n",
       "      <td>6.60000</td>\n",
       "      <td>6.8000</td>\n",
       "      <td>7.1000</td>\n",
       "      <td>9.1000</td>\n",
       "    </tr>\n",
       "    <tr>\n",
       "      <th>cdi</th>\n",
       "      <td>782.0</td>\n",
       "      <td>4.333760</td>\n",
       "      <td>3.169939</td>\n",
       "      <td>0.0000</td>\n",
       "      <td>0.00000</td>\n",
       "      <td>5.0000</td>\n",
       "      <td>7.0000</td>\n",
       "      <td>9.0000</td>\n",
       "    </tr>\n",
       "    <tr>\n",
       "      <th>mmi</th>\n",
       "      <td>782.0</td>\n",
       "      <td>5.964194</td>\n",
       "      <td>1.462724</td>\n",
       "      <td>1.0000</td>\n",
       "      <td>5.00000</td>\n",
       "      <td>6.0000</td>\n",
       "      <td>7.0000</td>\n",
       "      <td>9.0000</td>\n",
       "    </tr>\n",
       "    <tr>\n",
       "      <th>tsunami</th>\n",
       "      <td>782.0</td>\n",
       "      <td>0.388747</td>\n",
       "      <td>0.487778</td>\n",
       "      <td>0.0000</td>\n",
       "      <td>0.00000</td>\n",
       "      <td>0.0000</td>\n",
       "      <td>1.0000</td>\n",
       "      <td>1.0000</td>\n",
       "    </tr>\n",
       "    <tr>\n",
       "      <th>sig</th>\n",
       "      <td>782.0</td>\n",
       "      <td>870.108696</td>\n",
       "      <td>322.465367</td>\n",
       "      <td>650.0000</td>\n",
       "      <td>691.00000</td>\n",
       "      <td>754.0000</td>\n",
       "      <td>909.7500</td>\n",
       "      <td>2910.0000</td>\n",
       "    </tr>\n",
       "    <tr>\n",
       "      <th>nst</th>\n",
       "      <td>782.0</td>\n",
       "      <td>230.250639</td>\n",
       "      <td>250.188177</td>\n",
       "      <td>0.0000</td>\n",
       "      <td>0.00000</td>\n",
       "      <td>140.0000</td>\n",
       "      <td>445.0000</td>\n",
       "      <td>934.0000</td>\n",
       "    </tr>\n",
       "    <tr>\n",
       "      <th>dmin</th>\n",
       "      <td>782.0</td>\n",
       "      <td>1.325757</td>\n",
       "      <td>2.218805</td>\n",
       "      <td>0.0000</td>\n",
       "      <td>0.00000</td>\n",
       "      <td>0.0000</td>\n",
       "      <td>1.8630</td>\n",
       "      <td>17.6540</td>\n",
       "    </tr>\n",
       "    <tr>\n",
       "      <th>gap</th>\n",
       "      <td>782.0</td>\n",
       "      <td>25.038990</td>\n",
       "      <td>24.225067</td>\n",
       "      <td>0.0000</td>\n",
       "      <td>14.62500</td>\n",
       "      <td>20.0000</td>\n",
       "      <td>30.0000</td>\n",
       "      <td>239.0000</td>\n",
       "    </tr>\n",
       "    <tr>\n",
       "      <th>depth</th>\n",
       "      <td>782.0</td>\n",
       "      <td>75.883199</td>\n",
       "      <td>137.277078</td>\n",
       "      <td>2.7000</td>\n",
       "      <td>14.00000</td>\n",
       "      <td>26.2950</td>\n",
       "      <td>49.7500</td>\n",
       "      <td>670.8100</td>\n",
       "    </tr>\n",
       "    <tr>\n",
       "      <th>latitude</th>\n",
       "      <td>782.0</td>\n",
       "      <td>3.538100</td>\n",
       "      <td>27.303429</td>\n",
       "      <td>-61.8484</td>\n",
       "      <td>-14.59560</td>\n",
       "      <td>-2.5725</td>\n",
       "      <td>24.6545</td>\n",
       "      <td>71.6312</td>\n",
       "    </tr>\n",
       "    <tr>\n",
       "      <th>longitude</th>\n",
       "      <td>782.0</td>\n",
       "      <td>52.609199</td>\n",
       "      <td>117.898886</td>\n",
       "      <td>-179.9680</td>\n",
       "      <td>-71.66805</td>\n",
       "      <td>109.4260</td>\n",
       "      <td>148.9410</td>\n",
       "      <td>179.6620</td>\n",
       "    </tr>\n",
       "  </tbody>\n",
       "</table>\n",
       "</div>"
      ],
      "text/plain": [
       "           count        mean         std       min        25%       50%  \\\n",
       "magnitude  782.0    6.941125    0.445514    6.5000    6.60000    6.8000   \n",
       "cdi        782.0    4.333760    3.169939    0.0000    0.00000    5.0000   \n",
       "mmi        782.0    5.964194    1.462724    1.0000    5.00000    6.0000   \n",
       "tsunami    782.0    0.388747    0.487778    0.0000    0.00000    0.0000   \n",
       "sig        782.0  870.108696  322.465367  650.0000  691.00000  754.0000   \n",
       "nst        782.0  230.250639  250.188177    0.0000    0.00000  140.0000   \n",
       "dmin       782.0    1.325757    2.218805    0.0000    0.00000    0.0000   \n",
       "gap        782.0   25.038990   24.225067    0.0000   14.62500   20.0000   \n",
       "depth      782.0   75.883199  137.277078    2.7000   14.00000   26.2950   \n",
       "latitude   782.0    3.538100   27.303429  -61.8484  -14.59560   -2.5725   \n",
       "longitude  782.0   52.609199  117.898886 -179.9680  -71.66805  109.4260   \n",
       "\n",
       "                75%        max  \n",
       "magnitude    7.1000     9.1000  \n",
       "cdi          7.0000     9.0000  \n",
       "mmi          7.0000     9.0000  \n",
       "tsunami      1.0000     1.0000  \n",
       "sig        909.7500  2910.0000  \n",
       "nst        445.0000   934.0000  \n",
       "dmin         1.8630    17.6540  \n",
       "gap         30.0000   239.0000  \n",
       "depth       49.7500   670.8100  \n",
       "latitude    24.6545    71.6312  \n",
       "longitude  148.9410   179.6620  "
      ]
     },
     "execution_count": 6,
     "metadata": {},
     "output_type": "execute_result"
    }
   ],
   "source": [
    "quakes.describe().T"
   ]
  },
  {
   "attachments": {},
   "cell_type": "markdown",
   "metadata": {},
   "source": [
    "## Dtypes"
   ]
  },
  {
   "cell_type": "code",
   "execution_count": 11,
   "metadata": {},
   "outputs": [
    {
     "name": "stdout",
     "output_type": "stream",
     "text": [
      "<class 'pandas.core.frame.DataFrame'>\n",
      "RangeIndex: 782 entries, 0 to 781\n",
      "Data columns (total 19 columns):\n",
      " #   Column     Non-Null Count  Dtype  \n",
      "---  ------     --------------  -----  \n",
      " 0   title      782 non-null    object \n",
      " 1   magnitude  782 non-null    float64\n",
      " 2   date_time  782 non-null    object \n",
      " 3   cdi        782 non-null    int64  \n",
      " 4   mmi        782 non-null    int64  \n",
      " 5   alert      415 non-null    object \n",
      " 6   tsunami    782 non-null    int64  \n",
      " 7   sig        782 non-null    int64  \n",
      " 8   net        782 non-null    object \n",
      " 9   nst        782 non-null    int64  \n",
      " 10  dmin       782 non-null    float64\n",
      " 11  gap        782 non-null    float64\n",
      " 12  magType    782 non-null    object \n",
      " 13  depth      782 non-null    float64\n",
      " 14  latitude   782 non-null    float64\n",
      " 15  longitude  782 non-null    float64\n",
      " 16  location   777 non-null    object \n",
      " 17  continent  206 non-null    object \n",
      " 18  country    484 non-null    object \n",
      "dtypes: float64(6), int64(5), object(8)\n",
      "memory usage: 116.2+ KB\n"
     ]
    }
   ],
   "source": [
    "quakes.info()"
   ]
  },
  {
   "attachments": {},
   "cell_type": "markdown",
   "metadata": {},
   "source": [
    "## Memory Usage"
   ]
  },
  {
   "cell_type": "code",
   "execution_count": 13,
   "metadata": {},
   "outputs": [
    {
     "data": {
      "text/plain": [
       "467774"
      ]
     },
     "execution_count": 13,
     "metadata": {},
     "output_type": "execute_result"
    }
   ],
   "source": [
    "quakes.memory_usage(deep=True).sum()"
   ]
  },
  {
   "attachments": {},
   "cell_type": "markdown",
   "metadata": {},
   "source": [
    "Lets transform float64 features as float16:"
   ]
  },
  {
   "cell_type": "code",
   "execution_count": 52,
   "metadata": {},
   "outputs": [],
   "source": [
    "float64_cols = ['magnitude', 'dmin', 'gap', 'depth', 'latitude', 'longitude']\n",
    "quakes[float64_cols] = quakes[float64_cols].astype(np.float16)"
   ]
  },
  {
   "cell_type": "code",
   "execution_count": 53,
   "metadata": {},
   "outputs": [
    {
     "data": {
      "text/plain": [
       "388792"
      ]
     },
     "execution_count": 53,
     "metadata": {},
     "output_type": "execute_result"
    }
   ],
   "source": [
    "quakes.memory_usage(deep=True).sum()"
   ]
  },
  {
   "attachments": {},
   "cell_type": "markdown",
   "metadata": {},
   "source": [
    "Same for int64 featues:"
   ]
  },
  {
   "cell_type": "code",
   "execution_count": 56,
   "metadata": {},
   "outputs": [],
   "source": [
    "int64_cols = ['cdi', 'mmi', 'tsunami', 'sig', 'nst']\n",
    "quakes[int64_cols] = quakes[int64_cols].astype(np.int16)"
   ]
  },
  {
   "cell_type": "code",
   "execution_count": 57,
   "metadata": {},
   "outputs": [
    {
     "data": {
      "text/plain": [
       "365332"
      ]
     },
     "execution_count": 57,
     "metadata": {},
     "output_type": "execute_result"
    }
   ],
   "source": [
    "quakes.memory_usage(deep=True).sum()"
   ]
  },
  {
   "attachments": {},
   "cell_type": "markdown",
   "metadata": {},
   "source": [
    "Now let's transform object type columns into categories:"
   ]
  },
  {
   "cell_type": "code",
   "execution_count": 61,
   "metadata": {},
   "outputs": [],
   "source": [
    "object_cols = list(quakes.select_dtypes('object').columns)\n",
    "quakes[object_cols] = quakes[object_cols].astype('category')"
   ]
  },
  {
   "cell_type": "code",
   "execution_count": 62,
   "metadata": {},
   "outputs": [
    {
     "data": {
      "text/plain": [
       "180712"
      ]
     },
     "execution_count": 62,
     "metadata": {},
     "output_type": "execute_result"
    }
   ],
   "source": [
    "quakes.memory_usage(deep=True).sum()"
   ]
  },
  {
   "attachments": {},
   "cell_type": "markdown",
   "metadata": {},
   "source": [
    "Decrease in memory usage expressed in percentage:"
   ]
  },
  {
   "cell_type": "code",
   "execution_count": 70,
   "metadata": {},
   "outputs": [
    {
     "name": "stdout",
     "output_type": "stream",
     "text": [
      "Memory percentage decrease: 61.4%\n"
     ]
    }
   ],
   "source": [
    "start_mem = 467774\n",
    "end_mem = 180712\n",
    "pct_decrease = (start_mem - end_mem) / start_mem\n",
    "\n",
    "print(f\"Memory percentage decrease: {round(pct_decrease, 3)*100}%\")"
   ]
  },
  {
   "attachments": {},
   "cell_type": "markdown",
   "metadata": {},
   "source": [
    "## Transform date_time column to datetime64 format"
   ]
  },
  {
   "cell_type": "code",
   "execution_count": 14,
   "metadata": {},
   "outputs": [],
   "source": [
    "quakes['date_time'] = pd.to_datetime(quakes['date_time'])"
   ]
  },
  {
   "cell_type": "code",
   "execution_count": 21,
   "metadata": {},
   "outputs": [
    {
     "data": {
      "text/html": [
       "<div>\n",
       "<style scoped>\n",
       "    .dataframe tbody tr th:only-of-type {\n",
       "        vertical-align: middle;\n",
       "    }\n",
       "\n",
       "    .dataframe tbody tr th {\n",
       "        vertical-align: top;\n",
       "    }\n",
       "\n",
       "    .dataframe thead th {\n",
       "        text-align: right;\n",
       "    }\n",
       "</style>\n",
       "<table border=\"1\" class=\"dataframe\">\n",
       "  <thead>\n",
       "    <tr style=\"text-align: right;\">\n",
       "      <th></th>\n",
       "      <th>title</th>\n",
       "      <th>magnitude</th>\n",
       "      <th>date_time</th>\n",
       "      <th>cdi</th>\n",
       "      <th>mmi</th>\n",
       "      <th>alert</th>\n",
       "      <th>tsunami</th>\n",
       "      <th>sig</th>\n",
       "      <th>net</th>\n",
       "      <th>nst</th>\n",
       "      <th>dmin</th>\n",
       "      <th>gap</th>\n",
       "      <th>magType</th>\n",
       "      <th>depth</th>\n",
       "      <th>latitude</th>\n",
       "      <th>longitude</th>\n",
       "      <th>location</th>\n",
       "      <th>continent</th>\n",
       "      <th>country</th>\n",
       "    </tr>\n",
       "  </thead>\n",
       "  <tbody>\n",
       "    <tr>\n",
       "      <th>1</th>\n",
       "      <td>M 6.9 - 204 km SW of Bengkulu, Indonesia</td>\n",
       "      <td>6.9</td>\n",
       "      <td>2022-11-18 13:37:00</td>\n",
       "      <td>4</td>\n",
       "      <td>4</td>\n",
       "      <td>green</td>\n",
       "      <td>0</td>\n",
       "      <td>735</td>\n",
       "      <td>us</td>\n",
       "      <td>99</td>\n",
       "      <td>2.229</td>\n",
       "      <td>34.0</td>\n",
       "      <td>mww</td>\n",
       "      <td>25.000</td>\n",
       "      <td>-4.9559</td>\n",
       "      <td>100.738</td>\n",
       "      <td>Bengkulu, Indonesia</td>\n",
       "      <td>NaN</td>\n",
       "      <td>NaN</td>\n",
       "    </tr>\n",
       "    <tr>\n",
       "      <th>2</th>\n",
       "      <td>M 7.0 -</td>\n",
       "      <td>7.0</td>\n",
       "      <td>2022-12-11 07:09:00</td>\n",
       "      <td>3</td>\n",
       "      <td>3</td>\n",
       "      <td>green</td>\n",
       "      <td>1</td>\n",
       "      <td>755</td>\n",
       "      <td>us</td>\n",
       "      <td>147</td>\n",
       "      <td>3.125</td>\n",
       "      <td>18.0</td>\n",
       "      <td>mww</td>\n",
       "      <td>579.000</td>\n",
       "      <td>-20.0508</td>\n",
       "      <td>-178.346</td>\n",
       "      <td>NaN</td>\n",
       "      <td>Oceania</td>\n",
       "      <td>Fiji</td>\n",
       "    </tr>\n",
       "    <tr>\n",
       "      <th>3</th>\n",
       "      <td>M 7.3 - 205 km ESE of Neiafu, Tonga</td>\n",
       "      <td>7.3</td>\n",
       "      <td>2022-11-11 10:48:00</td>\n",
       "      <td>5</td>\n",
       "      <td>5</td>\n",
       "      <td>green</td>\n",
       "      <td>1</td>\n",
       "      <td>833</td>\n",
       "      <td>us</td>\n",
       "      <td>149</td>\n",
       "      <td>1.865</td>\n",
       "      <td>21.0</td>\n",
       "      <td>mww</td>\n",
       "      <td>37.000</td>\n",
       "      <td>-19.2918</td>\n",
       "      <td>-172.129</td>\n",
       "      <td>Neiafu, Tonga</td>\n",
       "      <td>NaN</td>\n",
       "      <td>NaN</td>\n",
       "    </tr>\n",
       "    <tr>\n",
       "      <th>4</th>\n",
       "      <td>M 6.6 -</td>\n",
       "      <td>6.6</td>\n",
       "      <td>2022-09-11 10:14:00</td>\n",
       "      <td>0</td>\n",
       "      <td>2</td>\n",
       "      <td>green</td>\n",
       "      <td>1</td>\n",
       "      <td>670</td>\n",
       "      <td>us</td>\n",
       "      <td>131</td>\n",
       "      <td>4.998</td>\n",
       "      <td>27.0</td>\n",
       "      <td>mww</td>\n",
       "      <td>624.464</td>\n",
       "      <td>-25.5948</td>\n",
       "      <td>178.278</td>\n",
       "      <td>NaN</td>\n",
       "      <td>NaN</td>\n",
       "      <td>NaN</td>\n",
       "    </tr>\n",
       "    <tr>\n",
       "      <th>5</th>\n",
       "      <td>M 7.0 - south of the Fiji Islands</td>\n",
       "      <td>7.0</td>\n",
       "      <td>2022-09-11 09:51:00</td>\n",
       "      <td>4</td>\n",
       "      <td>3</td>\n",
       "      <td>green</td>\n",
       "      <td>1</td>\n",
       "      <td>755</td>\n",
       "      <td>us</td>\n",
       "      <td>142</td>\n",
       "      <td>4.578</td>\n",
       "      <td>26.0</td>\n",
       "      <td>mwb</td>\n",
       "      <td>660.000</td>\n",
       "      <td>-26.0442</td>\n",
       "      <td>178.381</td>\n",
       "      <td>the Fiji Islands</td>\n",
       "      <td>NaN</td>\n",
       "      <td>NaN</td>\n",
       "    </tr>\n",
       "  </tbody>\n",
       "</table>\n",
       "</div>"
      ],
      "text/plain": [
       "                                      title  magnitude           date_time  \\\n",
       "1  M 6.9 - 204 km SW of Bengkulu, Indonesia        6.9 2022-11-18 13:37:00   \n",
       "2                                  M 7.0 -         7.0 2022-12-11 07:09:00   \n",
       "3       M 7.3 - 205 km ESE of Neiafu, Tonga        7.3 2022-11-11 10:48:00   \n",
       "4                                  M 6.6 -         6.6 2022-09-11 10:14:00   \n",
       "5         M 7.0 - south of the Fiji Islands        7.0 2022-09-11 09:51:00   \n",
       "\n",
       "   cdi  mmi  alert  tsunami  sig net  nst   dmin   gap magType    depth  \\\n",
       "1    4    4  green        0  735  us   99  2.229  34.0     mww   25.000   \n",
       "2    3    3  green        1  755  us  147  3.125  18.0     mww  579.000   \n",
       "3    5    5  green        1  833  us  149  1.865  21.0     mww   37.000   \n",
       "4    0    2  green        1  670  us  131  4.998  27.0     mww  624.464   \n",
       "5    4    3  green        1  755  us  142  4.578  26.0     mwb  660.000   \n",
       "\n",
       "   latitude  longitude             location continent country  \n",
       "1   -4.9559    100.738  Bengkulu, Indonesia       NaN     NaN  \n",
       "2  -20.0508   -178.346                  NaN   Oceania    Fiji  \n",
       "3  -19.2918   -172.129        Neiafu, Tonga       NaN     NaN  \n",
       "4  -25.5948    178.278                  NaN       NaN     NaN  \n",
       "5  -26.0442    178.381     the Fiji Islands       NaN     NaN  "
      ]
     },
     "execution_count": 21,
     "metadata": {},
     "output_type": "execute_result"
    }
   ],
   "source": [
    "quakes[pd.isnull(quakes).any(axis=1)].head()"
   ]
  },
  {
   "attachments": {},
   "cell_type": "markdown",
   "metadata": {},
   "source": [
    "If we want to fill this datapoint instead of dropping we can look for 6.6 magnitude earthquake data from 2022-09-11 10:14:00."
   ]
  },
  {
   "attachments": {},
   "cell_type": "markdown",
   "metadata": {},
   "source": [
    "## EDA"
   ]
  },
  {
   "cell_type": "code",
   "execution_count": 27,
   "metadata": {},
   "outputs": [
    {
     "name": "stderr",
     "output_type": "stream",
     "text": [
      "/var/folders/l6/bs_245f50mv9cxj2n2ptrxdh0000gn/T/ipykernel_57728/2595497917.py:3: FutureWarning: The default value of numeric_only in DataFrame.corr is deprecated. In a future version, it will default to False. Select only valid columns or specify the value of numeric_only to silence this warning.\n",
      "  sns.heatmap(quakes.corr(), annot=True)\n"
     ]
    },
    {
     "data": {
      "text/plain": [
       "<Axes: title={'center': 'Correlation between numerical features'}>"
      ]
     },
     "execution_count": 27,
     "metadata": {},
     "output_type": "execute_result"
    },
    {
     "data": {
      "image/png": "[encoded data removed]",
      "text/plain": [
       "<Figure size 800x600 with 2 Axes>"
      ]
     },
     "metadata": {},
     "output_type": "display_data"
    }
   ],
   "source": [
    "plt.figure(figsize=(8,6))\n",
    "plt.title(\"Correlation between numerical features\")\n",
    "sns.heatmap(quakes.corr(), annot=True)"
   ]
  },
  {
   "attachments": {},
   "cell_type": "markdown",
   "metadata": {},
   "source": [
    "### Boxplots"
   ]
  },
  {
   "cell_type": "code",
   "execution_count": 40,
   "metadata": {},
   "outputs": [
    {
     "data": {
      "text/plain": [
       "Text(0.5, 0, 'Magnitude')"
      ]
     },
     "execution_count": 40,
     "metadata": {},
     "output_type": "execute_result"
    },
    {
     "data": {
      "image/png": "[encoded data removed]",
      "text/plain": [
       "<Figure size 640x480 with 1 Axes>"
      ]
     },
     "metadata": {},
     "output_type": "display_data"
    }
   ],
   "source": [
    "plt.title(\"Magnitude Boxplot\")\n",
    "sns.boxplot(data=quakes, x='magnitude')\n",
    "plt.xlabel(\"Magnitude\")"
   ]
  },
  {
   "cell_type": "code",
   "execution_count": 48,
   "metadata": {},
   "outputs": [
    {
     "data": {
      "text/html": [
       "<div>\n",
       "<style scoped>\n",
       "    .dataframe tbody tr th:only-of-type {\n",
       "        vertical-align: middle;\n",
       "    }\n",
       "\n",
       "    .dataframe tbody tr th {\n",
       "        vertical-align: top;\n",
       "    }\n",
       "\n",
       "    .dataframe thead th {\n",
       "        text-align: right;\n",
       "    }\n",
       "</style>\n",
       "<table border=\"1\" class=\"dataframe\">\n",
       "  <thead>\n",
       "    <tr style=\"text-align: right;\">\n",
       "      <th></th>\n",
       "      <th>title</th>\n",
       "      <th>magnitude</th>\n",
       "      <th>date_time</th>\n",
       "      <th>cdi</th>\n",
       "      <th>mmi</th>\n",
       "      <th>alert</th>\n",
       "      <th>tsunami</th>\n",
       "      <th>sig</th>\n",
       "      <th>net</th>\n",
       "      <th>nst</th>\n",
       "      <th>dmin</th>\n",
       "      <th>gap</th>\n",
       "      <th>magType</th>\n",
       "      <th>depth</th>\n",
       "      <th>latitude</th>\n",
       "      <th>longitude</th>\n",
       "      <th>location</th>\n",
       "      <th>continent</th>\n",
       "      <th>country</th>\n",
       "    </tr>\n",
       "  </thead>\n",
       "  <tbody>\n",
       "    <tr>\n",
       "      <th>56</th>\n",
       "      <td>M 8.1 - South Sandwich Islands region</td>\n",
       "      <td>8.1</td>\n",
       "      <td>2021-12-08 18:35:00</td>\n",
       "      <td>0</td>\n",
       "      <td>7</td>\n",
       "      <td>green</td>\n",
       "      <td>0</td>\n",
       "      <td>1009</td>\n",
       "      <td>us</td>\n",
       "      <td>0</td>\n",
       "      <td>7.463</td>\n",
       "      <td>78.0</td>\n",
       "      <td>mww</td>\n",
       "      <td>22.79</td>\n",
       "      <td>-58.4157</td>\n",
       "      <td>-25.3206</td>\n",
       "      <td>South Sandwich Islands region</td>\n",
       "      <td>NaN</td>\n",
       "      <td>NaN</td>\n",
       "    </tr>\n",
       "    <tr>\n",
       "      <th>257</th>\n",
       "      <td>M 7.8 - southwest of Sumatra, Indonesia</td>\n",
       "      <td>7.8</td>\n",
       "      <td>2016-02-03 12:49:00</td>\n",
       "      <td>4</td>\n",
       "      <td>3</td>\n",
       "      <td>green</td>\n",
       "      <td>0</td>\n",
       "      <td>948</td>\n",
       "      <td>us</td>\n",
       "      <td>0</td>\n",
       "      <td>7.009</td>\n",
       "      <td>20.0</td>\n",
       "      <td>mww</td>\n",
       "      <td>24.00</td>\n",
       "      <td>-4.9521</td>\n",
       "      <td>94.3299</td>\n",
       "      <td>Sumatra, Indonesia</td>\n",
       "      <td>NaN</td>\n",
       "      <td>NaN</td>\n",
       "    </tr>\n",
       "    <tr>\n",
       "      <th>308</th>\n",
       "      <td>M 7.8 - 67 km NNE of Bharatpur, Nepal</td>\n",
       "      <td>7.8</td>\n",
       "      <td>2015-04-25 06:11:00</td>\n",
       "      <td>8</td>\n",
       "      <td>9</td>\n",
       "      <td>red</td>\n",
       "      <td>0</td>\n",
       "      <td>2820</td>\n",
       "      <td>us</td>\n",
       "      <td>0</td>\n",
       "      <td>1.857</td>\n",
       "      <td>12.0</td>\n",
       "      <td>mww</td>\n",
       "      <td>8.22</td>\n",
       "      <td>28.2305</td>\n",
       "      <td>84.7314</td>\n",
       "      <td>Bharatpur, Nepal</td>\n",
       "      <td>Asia</td>\n",
       "      <td>Nepal</td>\n",
       "    </tr>\n",
       "    <tr>\n",
       "      <th>424</th>\n",
       "      <td>M 7.8 - 206 km SW of Prince Rupert, Canada</td>\n",
       "      <td>7.8</td>\n",
       "      <td>2012-10-28 03:04:00</td>\n",
       "      <td>8</td>\n",
       "      <td>7</td>\n",
       "      <td>NaN</td>\n",
       "      <td>0</td>\n",
       "      <td>1726</td>\n",
       "      <td>us</td>\n",
       "      <td>807</td>\n",
       "      <td>0.000</td>\n",
       "      <td>42.7</td>\n",
       "      <td>mww</td>\n",
       "      <td>14.00</td>\n",
       "      <td>52.7880</td>\n",
       "      <td>-132.1010</td>\n",
       "      <td>Prince Rupert, Canada</td>\n",
       "      <td>North America</td>\n",
       "      <td>Canada</td>\n",
       "    </tr>\n",
       "    <tr>\n",
       "      <th>440</th>\n",
       "      <td>M 8.2 - off the west coast of northern Sumatra</td>\n",
       "      <td>8.2</td>\n",
       "      <td>2012-11-04 10:43:00</td>\n",
       "      <td>9</td>\n",
       "      <td>6</td>\n",
       "      <td>green</td>\n",
       "      <td>0</td>\n",
       "      <td>1213</td>\n",
       "      <td>us</td>\n",
       "      <td>341</td>\n",
       "      <td>0.000</td>\n",
       "      <td>14.9</td>\n",
       "      <td>mwc</td>\n",
       "      <td>25.10</td>\n",
       "      <td>0.8020</td>\n",
       "      <td>92.4630</td>\n",
       "      <td>off the west coast of northern Sumatra</td>\n",
       "      <td>NaN</td>\n",
       "      <td>NaN</td>\n",
       "    </tr>\n",
       "  </tbody>\n",
       "</table>\n",
       "</div>"
      ],
      "text/plain": [
       "                                              title  magnitude  \\\n",
       "56            M 8.1 - South Sandwich Islands region        8.1   \n",
       "257         M 7.8 - southwest of Sumatra, Indonesia        7.8   \n",
       "308           M 7.8 - 67 km NNE of Bharatpur, Nepal        7.8   \n",
       "424      M 7.8 - 206 km SW of Prince Rupert, Canada        7.8   \n",
       "440  M 8.2 - off the west coast of northern Sumatra        8.2   \n",
       "\n",
       "              date_time  cdi  mmi  alert  tsunami   sig net  nst   dmin   gap  \\\n",
       "56  2021-12-08 18:35:00    0    7  green        0  1009  us    0  7.463  78.0   \n",
       "257 2016-02-03 12:49:00    4    3  green        0   948  us    0  7.009  20.0   \n",
       "308 2015-04-25 06:11:00    8    9    red        0  2820  us    0  1.857  12.0   \n",
       "424 2012-10-28 03:04:00    8    7    NaN        0  1726  us  807  0.000  42.7   \n",
       "440 2012-11-04 10:43:00    9    6  green        0  1213  us  341  0.000  14.9   \n",
       "\n",
       "    magType  depth  latitude  longitude  \\\n",
       "56      mww  22.79  -58.4157   -25.3206   \n",
       "257     mww  24.00   -4.9521    94.3299   \n",
       "308     mww   8.22   28.2305    84.7314   \n",
       "424     mww  14.00   52.7880  -132.1010   \n",
       "440     mwc  25.10    0.8020    92.4630   \n",
       "\n",
       "                                   location      continent country  \n",
       "56            South Sandwich Islands region            NaN     NaN  \n",
       "257                      Sumatra, Indonesia            NaN     NaN  \n",
       "308                        Bharatpur, Nepal           Asia   Nepal  \n",
       "424                   Prince Rupert, Canada  North America  Canada  \n",
       "440  off the west coast of northern Sumatra            NaN     NaN  "
      ]
     },
     "execution_count": 48,
     "metadata": {},
     "output_type": "execute_result"
    }
   ],
   "source": [
    "quakes[(quakes['magnitude'] >= 7.8) & (quakes['tsunami'] == 0)].head()"
   ]
  },
  {
   "cell_type": "code",
   "execution_count": 38,
   "metadata": {},
   "outputs": [
    {
     "data": {
      "text/plain": [
       "Text(0, 0.5, 'Magnitude')"
      ]
     },
     "execution_count": 38,
     "metadata": {},
     "output_type": "execute_result"
    },
    {
     "data": {
      "image/png": "[encoded data removed]",
      "text/plain": [
       "<Figure size 640x480 with 1 Axes>"
      ]
     },
     "metadata": {},
     "output_type": "display_data"
    }
   ],
   "source": [
    "plt.title(\"Magnitude Boxplot\")\n",
    "sns.boxplot(data=quakes, y='magnitude', hue='alert')\n",
    "plt.ylabel(\"Magnitude\")"
   ]
  },
  {
   "cell_type": "code",
   "execution_count": 34,
   "metadata": {},
   "outputs": [
    {
     "data": {
      "text/plain": [
       "0    478\n",
       "1    304\n",
       "Name: tsunami, dtype: int64"
      ]
     },
     "execution_count": 34,
     "metadata": {},
     "output_type": "execute_result"
    }
   ],
   "source": [
    "quakes.tsunami.value_counts()"
   ]
  },
  {
   "cell_type": "code",
   "execution_count": null,
   "metadata": {},
   "outputs": [],
   "source": []
  },
  {
   "cell_type": "code",
   "execution_count": null,
   "metadata": {},
   "outputs": [],
   "source": []
  }
 ],
 "metadata": {
  "kernelspec": {
   "display_name": "compost",
   "language": "python",
   "name": "python3"
  },
  "language_info": {
   "codemirror_mode": {
    "name": "ipython",
    "version": 3
   },
   "file_extension": ".py",
   "mimetype": "text/x-python",
   "name": "python",
   "nbconvert_exporter": "python",
   "pygments_lexer": "ipython3",
   "version": "3.9.15"
  },
  "orig_nbformat": 4
 },
 "nbformat": 4,
 "nbformat_minor": 2
}
