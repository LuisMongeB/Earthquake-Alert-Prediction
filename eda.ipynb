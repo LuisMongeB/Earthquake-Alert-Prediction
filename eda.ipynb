{
 "cells": [
  {
   "attachments": {},
   "cell_type": "markdown",
   "metadata": {},
   "source": [
    "# Earthquake datasets\n",
    "Decided to merge two separate earthquake datasets. It covers from year 2001 to 2023 from (https://www.kaggle.com/datasets/warcoder/earthquake-dataset).\n",
    "    "
   ]
  },
  {
   "attachments": {},
   "cell_type": "markdown",
   "metadata": {},
   "source": [
    "## Imports"
   ]
  },
  {
   "cell_type": "code",
   "execution_count": 136,
   "metadata": {},
   "outputs": [],
   "source": [
    "import pandas as pd\n",
    "import numpy as np\n",
    "import matplotlib.pyplot as plt\n",
    "import seaborn as sns\n",
    "\n",
    "plt.style.use('ggplot')\n"
   ]
  },
  {
   "attachments": {},
   "cell_type": "markdown",
   "metadata": {},
   "source": [
    "## Reading dataset"
   ]
  },
  {
   "cell_type": "code",
   "execution_count": 137,
   "metadata": {},
   "outputs": [
    {
     "data": {
      "text/html": [
       "<div>\n",
       "<style scoped>\n",
       "    .dataframe tbody tr th:only-of-type {\n",
       "        vertical-align: middle;\n",
       "    }\n",
       "\n",
       "    .dataframe tbody tr th {\n",
       "        vertical-align: top;\n",
       "    }\n",
       "\n",
       "    .dataframe thead th {\n",
       "        text-align: right;\n",
       "    }\n",
       "</style>\n",
       "<table border=\"1\" class=\"dataframe\">\n",
       "  <thead>\n",
       "    <tr style=\"text-align: right;\">\n",
       "      <th></th>\n",
       "      <th>title</th>\n",
       "      <th>magnitude</th>\n",
       "      <th>date_time</th>\n",
       "      <th>cdi</th>\n",
       "      <th>mmi</th>\n",
       "      <th>alert</th>\n",
       "      <th>tsunami</th>\n",
       "      <th>sig</th>\n",
       "      <th>net</th>\n",
       "      <th>nst</th>\n",
       "      <th>dmin</th>\n",
       "      <th>gap</th>\n",
       "      <th>magType</th>\n",
       "      <th>depth</th>\n",
       "      <th>latitude</th>\n",
       "      <th>longitude</th>\n",
       "      <th>location</th>\n",
       "      <th>continent</th>\n",
       "      <th>country</th>\n",
       "    </tr>\n",
       "  </thead>\n",
       "  <tbody>\n",
       "    <tr>\n",
       "      <th>0</th>\n",
       "      <td>M 7.0 - 18 km SW of Malango, Solomon Islands</td>\n",
       "      <td>7.0</td>\n",
       "      <td>22-11-2022 02:03</td>\n",
       "      <td>8</td>\n",
       "      <td>7</td>\n",
       "      <td>green</td>\n",
       "      <td>1</td>\n",
       "      <td>768</td>\n",
       "      <td>us</td>\n",
       "      <td>117</td>\n",
       "      <td>0.509</td>\n",
       "      <td>17.0</td>\n",
       "      <td>mww</td>\n",
       "      <td>14.000</td>\n",
       "      <td>-9.7963</td>\n",
       "      <td>159.596</td>\n",
       "      <td>Malango, Solomon Islands</td>\n",
       "      <td>Oceania</td>\n",
       "      <td>Solomon Islands</td>\n",
       "    </tr>\n",
       "    <tr>\n",
       "      <th>1</th>\n",
       "      <td>M 6.9 - 204 km SW of Bengkulu, Indonesia</td>\n",
       "      <td>6.9</td>\n",
       "      <td>18-11-2022 13:37</td>\n",
       "      <td>4</td>\n",
       "      <td>4</td>\n",
       "      <td>green</td>\n",
       "      <td>0</td>\n",
       "      <td>735</td>\n",
       "      <td>us</td>\n",
       "      <td>99</td>\n",
       "      <td>2.229</td>\n",
       "      <td>34.0</td>\n",
       "      <td>mww</td>\n",
       "      <td>25.000</td>\n",
       "      <td>-4.9559</td>\n",
       "      <td>100.738</td>\n",
       "      <td>Bengkulu, Indonesia</td>\n",
       "      <td>NaN</td>\n",
       "      <td>NaN</td>\n",
       "    </tr>\n",
       "    <tr>\n",
       "      <th>2</th>\n",
       "      <td>M 7.0 -</td>\n",
       "      <td>7.0</td>\n",
       "      <td>12-11-2022 07:09</td>\n",
       "      <td>3</td>\n",
       "      <td>3</td>\n",
       "      <td>green</td>\n",
       "      <td>1</td>\n",
       "      <td>755</td>\n",
       "      <td>us</td>\n",
       "      <td>147</td>\n",
       "      <td>3.125</td>\n",
       "      <td>18.0</td>\n",
       "      <td>mww</td>\n",
       "      <td>579.000</td>\n",
       "      <td>-20.0508</td>\n",
       "      <td>-178.346</td>\n",
       "      <td>NaN</td>\n",
       "      <td>Oceania</td>\n",
       "      <td>Fiji</td>\n",
       "    </tr>\n",
       "    <tr>\n",
       "      <th>3</th>\n",
       "      <td>M 7.3 - 205 km ESE of Neiafu, Tonga</td>\n",
       "      <td>7.3</td>\n",
       "      <td>11-11-2022 10:48</td>\n",
       "      <td>5</td>\n",
       "      <td>5</td>\n",
       "      <td>green</td>\n",
       "      <td>1</td>\n",
       "      <td>833</td>\n",
       "      <td>us</td>\n",
       "      <td>149</td>\n",
       "      <td>1.865</td>\n",
       "      <td>21.0</td>\n",
       "      <td>mww</td>\n",
       "      <td>37.000</td>\n",
       "      <td>-19.2918</td>\n",
       "      <td>-172.129</td>\n",
       "      <td>Neiafu, Tonga</td>\n",
       "      <td>NaN</td>\n",
       "      <td>NaN</td>\n",
       "    </tr>\n",
       "    <tr>\n",
       "      <th>4</th>\n",
       "      <td>M 6.6 -</td>\n",
       "      <td>6.6</td>\n",
       "      <td>09-11-2022 10:14</td>\n",
       "      <td>0</td>\n",
       "      <td>2</td>\n",
       "      <td>green</td>\n",
       "      <td>1</td>\n",
       "      <td>670</td>\n",
       "      <td>us</td>\n",
       "      <td>131</td>\n",
       "      <td>4.998</td>\n",
       "      <td>27.0</td>\n",
       "      <td>mww</td>\n",
       "      <td>624.464</td>\n",
       "      <td>-25.5948</td>\n",
       "      <td>178.278</td>\n",
       "      <td>NaN</td>\n",
       "      <td>NaN</td>\n",
       "      <td>NaN</td>\n",
       "    </tr>\n",
       "  </tbody>\n",
       "</table>\n",
       "</div>"
      ],
      "text/plain": [
       "                                          title  magnitude         date_time  \\\n",
       "0  M 7.0 - 18 km SW of Malango, Solomon Islands        7.0  22-11-2022 02:03   \n",
       "1      M 6.9 - 204 km SW of Bengkulu, Indonesia        6.9  18-11-2022 13:37   \n",
       "2                                      M 7.0 -         7.0  12-11-2022 07:09   \n",
       "3           M 7.3 - 205 km ESE of Neiafu, Tonga        7.3  11-11-2022 10:48   \n",
       "4                                      M 6.6 -         6.6  09-11-2022 10:14   \n",
       "\n",
       "   cdi  mmi  alert  tsunami  sig net  nst   dmin   gap magType    depth  \\\n",
       "0    8    7  green        1  768  us  117  0.509  17.0     mww   14.000   \n",
       "1    4    4  green        0  735  us   99  2.229  34.0     mww   25.000   \n",
       "2    3    3  green        1  755  us  147  3.125  18.0     mww  579.000   \n",
       "3    5    5  green        1  833  us  149  1.865  21.0     mww   37.000   \n",
       "4    0    2  green        1  670  us  131  4.998  27.0     mww  624.464   \n",
       "\n",
       "   latitude  longitude                  location continent          country  \n",
       "0   -9.7963    159.596  Malango, Solomon Islands   Oceania  Solomon Islands  \n",
       "1   -4.9559    100.738       Bengkulu, Indonesia       NaN              NaN  \n",
       "2  -20.0508   -178.346                       NaN   Oceania             Fiji  \n",
       "3  -19.2918   -172.129             Neiafu, Tonga       NaN              NaN  \n",
       "4  -25.5948    178.278                       NaN       NaN              NaN  "
      ]
     },
     "execution_count": 137,
     "metadata": {},
     "output_type": "execute_result"
    }
   ],
   "source": [
    "quakes = pd.read_csv('data/earthquake_data2001_2023.csv')\n",
    "quakes.head()"
   ]
  },
  {
   "attachments": {},
   "cell_type": "markdown",
   "metadata": {},
   "source": [
    "Some nan's are already present in the first five rows, but some can be filled later instead of dropping by taking it from the location column:"
   ]
  },
  {
   "cell_type": "code",
   "execution_count": 138,
   "metadata": {},
   "outputs": [
    {
     "name": "stdout",
     "output_type": "stream",
     "text": [
      "Rows: 782 | Features: 19\n",
      "title          0\n",
      "magnitude      0\n",
      "date_time      0\n",
      "cdi            0\n",
      "mmi            0\n",
      "alert        367\n",
      "tsunami        0\n",
      "sig            0\n",
      "net            0\n",
      "nst            0\n",
      "dmin           0\n",
      "gap            0\n",
      "magType        0\n",
      "depth          0\n",
      "latitude       0\n",
      "longitude      0\n",
      "location       5\n",
      "continent    576\n",
      "country      298\n",
      "dtype: int64\n"
     ]
    }
   ],
   "source": [
    "print(f\"Rows: {quakes.shape[0]} | Features: {quakes.shape[1]}\")\n",
    "print(quakes.isna().sum())"
   ]
  },
  {
   "attachments": {},
   "cell_type": "markdown",
   "metadata": {},
   "source": [
    "## Descriptive statistics"
   ]
  },
  {
   "cell_type": "code",
   "execution_count": 139,
   "metadata": {},
   "outputs": [
    {
     "data": {
      "text/html": [
       "<div>\n",
       "<style scoped>\n",
       "    .dataframe tbody tr th:only-of-type {\n",
       "        vertical-align: middle;\n",
       "    }\n",
       "\n",
       "    .dataframe tbody tr th {\n",
       "        vertical-align: top;\n",
       "    }\n",
       "\n",
       "    .dataframe thead th {\n",
       "        text-align: right;\n",
       "    }\n",
       "</style>\n",
       "<table border=\"1\" class=\"dataframe\">\n",
       "  <thead>\n",
       "    <tr style=\"text-align: right;\">\n",
       "      <th></th>\n",
       "      <th>magnitude</th>\n",
       "      <th>cdi</th>\n",
       "      <th>mmi</th>\n",
       "      <th>tsunami</th>\n",
       "      <th>sig</th>\n",
       "      <th>nst</th>\n",
       "      <th>dmin</th>\n",
       "      <th>gap</th>\n",
       "      <th>depth</th>\n",
       "      <th>latitude</th>\n",
       "      <th>longitude</th>\n",
       "    </tr>\n",
       "  </thead>\n",
       "  <tbody>\n",
       "    <tr>\n",
       "      <th>count</th>\n",
       "      <td>782.000000</td>\n",
       "      <td>782.000000</td>\n",
       "      <td>782.000000</td>\n",
       "      <td>782.000000</td>\n",
       "      <td>782.000000</td>\n",
       "      <td>782.000000</td>\n",
       "      <td>782.000000</td>\n",
       "      <td>782.000000</td>\n",
       "      <td>782.000000</td>\n",
       "      <td>782.000000</td>\n",
       "      <td>782.000000</td>\n",
       "    </tr>\n",
       "    <tr>\n",
       "      <th>mean</th>\n",
       "      <td>6.941125</td>\n",
       "      <td>4.333760</td>\n",
       "      <td>5.964194</td>\n",
       "      <td>0.388747</td>\n",
       "      <td>870.108696</td>\n",
       "      <td>230.250639</td>\n",
       "      <td>1.325757</td>\n",
       "      <td>25.038990</td>\n",
       "      <td>75.883199</td>\n",
       "      <td>3.538100</td>\n",
       "      <td>52.609199</td>\n",
       "    </tr>\n",
       "    <tr>\n",
       "      <th>std</th>\n",
       "      <td>0.445514</td>\n",
       "      <td>3.169939</td>\n",
       "      <td>1.462724</td>\n",
       "      <td>0.487778</td>\n",
       "      <td>322.465367</td>\n",
       "      <td>250.188177</td>\n",
       "      <td>2.218805</td>\n",
       "      <td>24.225067</td>\n",
       "      <td>137.277078</td>\n",
       "      <td>27.303429</td>\n",
       "      <td>117.898886</td>\n",
       "    </tr>\n",
       "    <tr>\n",
       "      <th>min</th>\n",
       "      <td>6.500000</td>\n",
       "      <td>0.000000</td>\n",
       "      <td>1.000000</td>\n",
       "      <td>0.000000</td>\n",
       "      <td>650.000000</td>\n",
       "      <td>0.000000</td>\n",
       "      <td>0.000000</td>\n",
       "      <td>0.000000</td>\n",
       "      <td>2.700000</td>\n",
       "      <td>-61.848400</td>\n",
       "      <td>-179.968000</td>\n",
       "    </tr>\n",
       "    <tr>\n",
       "      <th>25%</th>\n",
       "      <td>6.600000</td>\n",
       "      <td>0.000000</td>\n",
       "      <td>5.000000</td>\n",
       "      <td>0.000000</td>\n",
       "      <td>691.000000</td>\n",
       "      <td>0.000000</td>\n",
       "      <td>0.000000</td>\n",
       "      <td>14.625000</td>\n",
       "      <td>14.000000</td>\n",
       "      <td>-14.595600</td>\n",
       "      <td>-71.668050</td>\n",
       "    </tr>\n",
       "    <tr>\n",
       "      <th>50%</th>\n",
       "      <td>6.800000</td>\n",
       "      <td>5.000000</td>\n",
       "      <td>6.000000</td>\n",
       "      <td>0.000000</td>\n",
       "      <td>754.000000</td>\n",
       "      <td>140.000000</td>\n",
       "      <td>0.000000</td>\n",
       "      <td>20.000000</td>\n",
       "      <td>26.295000</td>\n",
       "      <td>-2.572500</td>\n",
       "      <td>109.426000</td>\n",
       "    </tr>\n",
       "    <tr>\n",
       "      <th>75%</th>\n",
       "      <td>7.100000</td>\n",
       "      <td>7.000000</td>\n",
       "      <td>7.000000</td>\n",
       "      <td>1.000000</td>\n",
       "      <td>909.750000</td>\n",
       "      <td>445.000000</td>\n",
       "      <td>1.863000</td>\n",
       "      <td>30.000000</td>\n",
       "      <td>49.750000</td>\n",
       "      <td>24.654500</td>\n",
       "      <td>148.941000</td>\n",
       "    </tr>\n",
       "    <tr>\n",
       "      <th>max</th>\n",
       "      <td>9.100000</td>\n",
       "      <td>9.000000</td>\n",
       "      <td>9.000000</td>\n",
       "      <td>1.000000</td>\n",
       "      <td>2910.000000</td>\n",
       "      <td>934.000000</td>\n",
       "      <td>17.654000</td>\n",
       "      <td>239.000000</td>\n",
       "      <td>670.810000</td>\n",
       "      <td>71.631200</td>\n",
       "      <td>179.662000</td>\n",
       "    </tr>\n",
       "  </tbody>\n",
       "</table>\n",
       "</div>"
      ],
      "text/plain": [
       "        magnitude         cdi         mmi     tsunami          sig  \\\n",
       "count  782.000000  782.000000  782.000000  782.000000   782.000000   \n",
       "mean     6.941125    4.333760    5.964194    0.388747   870.108696   \n",
       "std      0.445514    3.169939    1.462724    0.487778   322.465367   \n",
       "min      6.500000    0.000000    1.000000    0.000000   650.000000   \n",
       "25%      6.600000    0.000000    5.000000    0.000000   691.000000   \n",
       "50%      6.800000    5.000000    6.000000    0.000000   754.000000   \n",
       "75%      7.100000    7.000000    7.000000    1.000000   909.750000   \n",
       "max      9.100000    9.000000    9.000000    1.000000  2910.000000   \n",
       "\n",
       "              nst        dmin         gap       depth    latitude   longitude  \n",
       "count  782.000000  782.000000  782.000000  782.000000  782.000000  782.000000  \n",
       "mean   230.250639    1.325757   25.038990   75.883199    3.538100   52.609199  \n",
       "std    250.188177    2.218805   24.225067  137.277078   27.303429  117.898886  \n",
       "min      0.000000    0.000000    0.000000    2.700000  -61.848400 -179.968000  \n",
       "25%      0.000000    0.000000   14.625000   14.000000  -14.595600  -71.668050  \n",
       "50%    140.000000    0.000000   20.000000   26.295000   -2.572500  109.426000  \n",
       "75%    445.000000    1.863000   30.000000   49.750000   24.654500  148.941000  \n",
       "max    934.000000   17.654000  239.000000  670.810000   71.631200  179.662000  "
      ]
     },
     "execution_count": 139,
     "metadata": {},
     "output_type": "execute_result"
    }
   ],
   "source": [
    "quakes.describe()"
   ]
  },
  {
   "attachments": {},
   "cell_type": "markdown",
   "metadata": {},
   "source": [
    "## Dtypes"
   ]
  },
  {
   "cell_type": "code",
   "execution_count": 140,
   "metadata": {},
   "outputs": [
    {
     "name": "stdout",
     "output_type": "stream",
     "text": [
      "<class 'pandas.core.frame.DataFrame'>\n",
      "RangeIndex: 782 entries, 0 to 781\n",
      "Data columns (total 19 columns):\n",
      " #   Column     Non-Null Count  Dtype  \n",
      "---  ------     --------------  -----  \n",
      " 0   title      782 non-null    object \n",
      " 1   magnitude  782 non-null    float64\n",
      " 2   date_time  782 non-null    object \n",
      " 3   cdi        782 non-null    int64  \n",
      " 4   mmi        782 non-null    int64  \n",
      " 5   alert      415 non-null    object \n",
      " 6   tsunami    782 non-null    int64  \n",
      " 7   sig        782 non-null    int64  \n",
      " 8   net        782 non-null    object \n",
      " 9   nst        782 non-null    int64  \n",
      " 10  dmin       782 non-null    float64\n",
      " 11  gap        782 non-null    float64\n",
      " 12  magType    782 non-null    object \n",
      " 13  depth      782 non-null    float64\n",
      " 14  latitude   782 non-null    float64\n",
      " 15  longitude  782 non-null    float64\n",
      " 16  location   777 non-null    object \n",
      " 17  continent  206 non-null    object \n",
      " 18  country    484 non-null    object \n",
      "dtypes: float64(6), int64(5), object(8)\n",
      "memory usage: 116.2+ KB\n"
     ]
    }
   ],
   "source": [
    "quakes.info()"
   ]
  },
  {
   "attachments": {},
   "cell_type": "markdown",
   "metadata": {},
   "source": [
    "## Memory Usage"
   ]
  },
  {
   "cell_type": "code",
   "execution_count": 141,
   "metadata": {},
   "outputs": [
    {
     "data": {
      "text/plain": [
       "467774"
      ]
     },
     "execution_count": 141,
     "metadata": {},
     "output_type": "execute_result"
    }
   ],
   "source": [
    "quakes.memory_usage(deep=True).sum()"
   ]
  },
  {
   "attachments": {},
   "cell_type": "markdown",
   "metadata": {},
   "source": [
    "Lets transform float64 features as float16:"
   ]
  },
  {
   "cell_type": "code",
   "execution_count": 142,
   "metadata": {},
   "outputs": [],
   "source": [
    "float64_cols = ['magnitude', 'dmin', 'gap', 'depth', 'latitude', 'longitude']\n",
    "quakes[float64_cols] = quakes[float64_cols].astype(np.float16)"
   ]
  },
  {
   "cell_type": "code",
   "execution_count": 143,
   "metadata": {},
   "outputs": [
    {
     "data": {
      "text/plain": [
       "439622"
      ]
     },
     "execution_count": 143,
     "metadata": {},
     "output_type": "execute_result"
    }
   ],
   "source": [
    "quakes.memory_usage(deep=True).sum()"
   ]
  },
  {
   "attachments": {},
   "cell_type": "markdown",
   "metadata": {},
   "source": [
    "Same for int64 featues:"
   ]
  },
  {
   "cell_type": "code",
   "execution_count": 144,
   "metadata": {},
   "outputs": [],
   "source": [
    "int64_cols = ['cdi', 'mmi', 'tsunami', 'sig', 'nst']\n",
    "quakes[int64_cols] = quakes[int64_cols].astype(np.int16)"
   ]
  },
  {
   "cell_type": "code",
   "execution_count": 145,
   "metadata": {},
   "outputs": [
    {
     "data": {
      "text/plain": [
       "416162"
      ]
     },
     "execution_count": 145,
     "metadata": {},
     "output_type": "execute_result"
    }
   ],
   "source": [
    "quakes.memory_usage(deep=True).sum()"
   ]
  },
  {
   "attachments": {},
   "cell_type": "markdown",
   "metadata": {},
   "source": [
    "Now let's transform object type columns into categories:"
   ]
  },
  {
   "cell_type": "code",
   "execution_count": 146,
   "metadata": {},
   "outputs": [],
   "source": [
    "object_cols = list(quakes.select_dtypes('object').columns)\n",
    "quakes[object_cols] = quakes[object_cols].astype('category')"
   ]
  },
  {
   "cell_type": "code",
   "execution_count": 147,
   "metadata": {},
   "outputs": [
    {
     "data": {
      "text/plain": [
       "249001"
      ]
     },
     "execution_count": 147,
     "metadata": {},
     "output_type": "execute_result"
    }
   ],
   "source": [
    "quakes.memory_usage(deep=True).sum()"
   ]
  },
  {
   "attachments": {},
   "cell_type": "markdown",
   "metadata": {},
   "source": [
    "Decrease in memory usage expressed in percentage:"
   ]
  },
  {
   "cell_type": "code",
   "execution_count": 148,
   "metadata": {},
   "outputs": [
    {
     "name": "stdout",
     "output_type": "stream",
     "text": [
      "Memory percentage decrease: 61.4%\n"
     ]
    }
   ],
   "source": [
    "start_mem = 467774\n",
    "end_mem = 180712\n",
    "pct_decrease = (start_mem - end_mem) / start_mem\n",
    "\n",
    "print(f\"Memory percentage decrease: {round(pct_decrease, 3)*100}%\")"
   ]
  },
  {
   "attachments": {},
   "cell_type": "markdown",
   "metadata": {},
   "source": [
    "## Transform date_time column to datetime64 format"
   ]
  },
  {
   "cell_type": "code",
   "execution_count": 149,
   "metadata": {},
   "outputs": [],
   "source": [
    "quakes['date_time'] = pd.to_datetime(quakes['date_time'])"
   ]
  },
  {
   "cell_type": "code",
   "execution_count": 150,
   "metadata": {},
   "outputs": [
    {
     "data": {
      "text/html": [
       "<div>\n",
       "<style scoped>\n",
       "    .dataframe tbody tr th:only-of-type {\n",
       "        vertical-align: middle;\n",
       "    }\n",
       "\n",
       "    .dataframe tbody tr th {\n",
       "        vertical-align: top;\n",
       "    }\n",
       "\n",
       "    .dataframe thead th {\n",
       "        text-align: right;\n",
       "    }\n",
       "</style>\n",
       "<table border=\"1\" class=\"dataframe\">\n",
       "  <thead>\n",
       "    <tr style=\"text-align: right;\">\n",
       "      <th></th>\n",
       "      <th>title</th>\n",
       "      <th>magnitude</th>\n",
       "      <th>date_time</th>\n",
       "      <th>cdi</th>\n",
       "      <th>mmi</th>\n",
       "      <th>alert</th>\n",
       "      <th>tsunami</th>\n",
       "      <th>sig</th>\n",
       "      <th>net</th>\n",
       "      <th>nst</th>\n",
       "      <th>dmin</th>\n",
       "      <th>gap</th>\n",
       "      <th>magType</th>\n",
       "      <th>depth</th>\n",
       "      <th>latitude</th>\n",
       "      <th>longitude</th>\n",
       "      <th>location</th>\n",
       "      <th>continent</th>\n",
       "      <th>country</th>\n",
       "    </tr>\n",
       "  </thead>\n",
       "  <tbody>\n",
       "    <tr>\n",
       "      <th>1</th>\n",
       "      <td>M 6.9 - 204 km SW of Bengkulu, Indonesia</td>\n",
       "      <td>6.898438</td>\n",
       "      <td>2022-11-18 13:37:00</td>\n",
       "      <td>4</td>\n",
       "      <td>4</td>\n",
       "      <td>green</td>\n",
       "      <td>0</td>\n",
       "      <td>735</td>\n",
       "      <td>us</td>\n",
       "      <td>99</td>\n",
       "      <td>2.228516</td>\n",
       "      <td>34.0</td>\n",
       "      <td>mww</td>\n",
       "      <td>25.0</td>\n",
       "      <td>-4.957031</td>\n",
       "      <td>100.750</td>\n",
       "      <td>Bengkulu, Indonesia</td>\n",
       "      <td>NaN</td>\n",
       "      <td>NaN</td>\n",
       "    </tr>\n",
       "    <tr>\n",
       "      <th>2</th>\n",
       "      <td>M 7.0 -</td>\n",
       "      <td>7.000000</td>\n",
       "      <td>2022-12-11 07:09:00</td>\n",
       "      <td>3</td>\n",
       "      <td>3</td>\n",
       "      <td>green</td>\n",
       "      <td>1</td>\n",
       "      <td>755</td>\n",
       "      <td>us</td>\n",
       "      <td>147</td>\n",
       "      <td>3.125000</td>\n",
       "      <td>18.0</td>\n",
       "      <td>mww</td>\n",
       "      <td>579.0</td>\n",
       "      <td>-20.046875</td>\n",
       "      <td>-178.375</td>\n",
       "      <td>NaN</td>\n",
       "      <td>Oceania</td>\n",
       "      <td>Fiji</td>\n",
       "    </tr>\n",
       "    <tr>\n",
       "      <th>3</th>\n",
       "      <td>M 7.3 - 205 km ESE of Neiafu, Tonga</td>\n",
       "      <td>7.300781</td>\n",
       "      <td>2022-11-11 10:48:00</td>\n",
       "      <td>5</td>\n",
       "      <td>5</td>\n",
       "      <td>green</td>\n",
       "      <td>1</td>\n",
       "      <td>833</td>\n",
       "      <td>us</td>\n",
       "      <td>149</td>\n",
       "      <td>1.865234</td>\n",
       "      <td>21.0</td>\n",
       "      <td>mww</td>\n",
       "      <td>37.0</td>\n",
       "      <td>-19.296875</td>\n",
       "      <td>-172.125</td>\n",
       "      <td>Neiafu, Tonga</td>\n",
       "      <td>NaN</td>\n",
       "      <td>NaN</td>\n",
       "    </tr>\n",
       "    <tr>\n",
       "      <th>4</th>\n",
       "      <td>M 6.6 -</td>\n",
       "      <td>6.601562</td>\n",
       "      <td>2022-09-11 10:14:00</td>\n",
       "      <td>0</td>\n",
       "      <td>2</td>\n",
       "      <td>green</td>\n",
       "      <td>1</td>\n",
       "      <td>670</td>\n",
       "      <td>us</td>\n",
       "      <td>131</td>\n",
       "      <td>4.996094</td>\n",
       "      <td>27.0</td>\n",
       "      <td>mww</td>\n",
       "      <td>624.5</td>\n",
       "      <td>-25.593750</td>\n",
       "      <td>178.250</td>\n",
       "      <td>NaN</td>\n",
       "      <td>NaN</td>\n",
       "      <td>NaN</td>\n",
       "    </tr>\n",
       "    <tr>\n",
       "      <th>5</th>\n",
       "      <td>M 7.0 - south of the Fiji Islands</td>\n",
       "      <td>7.000000</td>\n",
       "      <td>2022-09-11 09:51:00</td>\n",
       "      <td>4</td>\n",
       "      <td>3</td>\n",
       "      <td>green</td>\n",
       "      <td>1</td>\n",
       "      <td>755</td>\n",
       "      <td>us</td>\n",
       "      <td>142</td>\n",
       "      <td>4.578125</td>\n",
       "      <td>26.0</td>\n",
       "      <td>mwb</td>\n",
       "      <td>660.0</td>\n",
       "      <td>-26.046875</td>\n",
       "      <td>178.375</td>\n",
       "      <td>the Fiji Islands</td>\n",
       "      <td>NaN</td>\n",
       "      <td>NaN</td>\n",
       "    </tr>\n",
       "  </tbody>\n",
       "</table>\n",
       "</div>"
      ],
      "text/plain": [
       "                                      title  magnitude           date_time  \\\n",
       "1  M 6.9 - 204 km SW of Bengkulu, Indonesia   6.898438 2022-11-18 13:37:00   \n",
       "2                                  M 7.0 -    7.000000 2022-12-11 07:09:00   \n",
       "3       M 7.3 - 205 km ESE of Neiafu, Tonga   7.300781 2022-11-11 10:48:00   \n",
       "4                                  M 6.6 -    6.601562 2022-09-11 10:14:00   \n",
       "5         M 7.0 - south of the Fiji Islands   7.000000 2022-09-11 09:51:00   \n",
       "\n",
       "   cdi  mmi  alert  tsunami  sig net  nst      dmin   gap magType  depth  \\\n",
       "1    4    4  green        0  735  us   99  2.228516  34.0     mww   25.0   \n",
       "2    3    3  green        1  755  us  147  3.125000  18.0     mww  579.0   \n",
       "3    5    5  green        1  833  us  149  1.865234  21.0     mww   37.0   \n",
       "4    0    2  green        1  670  us  131  4.996094  27.0     mww  624.5   \n",
       "5    4    3  green        1  755  us  142  4.578125  26.0     mwb  660.0   \n",
       "\n",
       "    latitude  longitude             location continent country  \n",
       "1  -4.957031    100.750  Bengkulu, Indonesia       NaN     NaN  \n",
       "2 -20.046875   -178.375                  NaN   Oceania    Fiji  \n",
       "3 -19.296875   -172.125        Neiafu, Tonga       NaN     NaN  \n",
       "4 -25.593750    178.250                  NaN       NaN     NaN  \n",
       "5 -26.046875    178.375     the Fiji Islands       NaN     NaN  "
      ]
     },
     "execution_count": 150,
     "metadata": {},
     "output_type": "execute_result"
    }
   ],
   "source": [
    "quakes[pd.isnull(quakes).any(axis=1)].head()"
   ]
  },
  {
   "attachments": {},
   "cell_type": "markdown",
   "metadata": {},
   "source": [
    "If we want to fill this datapoint instead of dropping we can look for 6.6 magnitude earthquake data from 2022-09-11 10:14:00."
   ]
  },
  {
   "attachments": {},
   "cell_type": "markdown",
   "metadata": {},
   "source": [
    "## Missing Values"
   ]
  },
  {
   "cell_type": "code",
   "execution_count": 151,
   "metadata": {},
   "outputs": [
    {
     "data": {
      "text/plain": [
       "title        0.000000\n",
       "magnitude    0.000000\n",
       "date_time    0.000000\n",
       "cdi          0.000000\n",
       "mmi          0.000000\n",
       "alert        0.469309\n",
       "tsunami      0.000000\n",
       "sig          0.000000\n",
       "net          0.000000\n",
       "nst          0.000000\n",
       "dmin         0.000000\n",
       "gap          0.000000\n",
       "magType      0.000000\n",
       "depth        0.000000\n",
       "latitude     0.000000\n",
       "longitude    0.000000\n",
       "location     0.006394\n",
       "continent    0.736573\n",
       "country      0.381074\n",
       "dtype: float64"
      ]
     },
     "execution_count": 151,
     "metadata": {},
     "output_type": "execute_result"
    }
   ],
   "source": [
    "quakes.isna().sum()/len(quakes)"
   ]
  },
  {
   "cell_type": "code",
   "execution_count": 152,
   "metadata": {},
   "outputs": [
    {
     "name": "stdout",
     "output_type": "stream",
     "text": [
      "Indonesia           110\n",
      "Papua New Guinea     56\n",
      "Chile                34\n",
      "Vanuatu              27\n",
      "Solomon Islands      22\n",
      "Name: country, dtype: int64\n"
     ]
    }
   ],
   "source": [
    "print(quakes.country.value_counts(ascending=False)[0:5])"
   ]
  },
  {
   "cell_type": "code",
   "execution_count": 153,
   "metadata": {},
   "outputs": [
    {
     "name": "stdout",
     "output_type": "stream",
     "text": [
      "Venezuela                                       1\n",
      "Algeria                                         1\n",
      "Nicaragua                                       1\n",
      "South Georgia and the South Sandwich Islands    1\n",
      "Mozambique                                      1\n",
      "Name: country, dtype: int64\n"
     ]
    }
   ],
   "source": [
    "print(quakes.country.value_counts(ascending=True)[0:5])"
   ]
  },
  {
   "cell_type": "code",
   "execution_count": 154,
   "metadata": {},
   "outputs": [
    {
     "name": "stdout",
     "output_type": "stream",
     "text": [
      "Countries represented in dataset: 49\n"
     ]
    }
   ],
   "source": [
    "print(f\"Countries represented in dataset: {quakes.country.nunique()}\")"
   ]
  },
  {
   "attachments": {},
   "cell_type": "markdown",
   "metadata": {},
   "source": [
    "## EDA"
   ]
  },
  {
   "cell_type": "code",
   "execution_count": 155,
   "metadata": {},
   "outputs": [
    {
     "name": "stderr",
     "output_type": "stream",
     "text": [
      "/var/folders/l6/bs_245f50mv9cxj2n2ptrxdh0000gn/T/ipykernel_36835/2595497917.py:3: FutureWarning: The default value of numeric_only in DataFrame.corr is deprecated. In a future version, it will default to False. Select only valid columns or specify the value of numeric_only to silence this warning.\n",
      "  sns.heatmap(quakes.corr(), annot=True)\n"
     ]
    },
    {
     "data": {
      "text/plain": [
       "<AxesSubplot: title={'center': 'Correlation between numerical features'}>"
      ]
     },
     "execution_count": 155,
     "metadata": {},
     "output_type": "execute_result"
    },
    {
     "data": {
      "image/png": "[encoded data removed]",
      "text/plain": [
       "<Figure size 800x600 with 2 Axes>"
      ]
     },
     "metadata": {},
     "output_type": "display_data"
    }
   ],
   "source": [
    "plt.figure(figsize=(8,6))\n",
    "plt.title(\"Correlation between numerical features\")\n",
    "sns.heatmap(quakes.corr(), annot=True)"
   ]
  },
  {
   "attachments": {},
   "cell_type": "markdown",
   "metadata": {},
   "source": [
    "## Feature Understanding"
   ]
  },
  {
   "cell_type": "code",
   "execution_count": 156,
   "metadata": {},
   "outputs": [
    {
     "data": {
      "text/html": [
       "<div>\n",
       "<style scoped>\n",
       "    .dataframe tbody tr th:only-of-type {\n",
       "        vertical-align: middle;\n",
       "    }\n",
       "\n",
       "    .dataframe tbody tr th {\n",
       "        vertical-align: top;\n",
       "    }\n",
       "\n",
       "    .dataframe thead th {\n",
       "        text-align: right;\n",
       "    }\n",
       "</style>\n",
       "<table border=\"1\" class=\"dataframe\">\n",
       "  <thead>\n",
       "    <tr style=\"text-align: right;\">\n",
       "      <th></th>\n",
       "      <th>magnitude</th>\n",
       "      <th>cdi</th>\n",
       "      <th>mmi</th>\n",
       "      <th>tsunami</th>\n",
       "      <th>sig</th>\n",
       "      <th>nst</th>\n",
       "      <th>dmin</th>\n",
       "      <th>gap</th>\n",
       "      <th>depth</th>\n",
       "      <th>latitude</th>\n",
       "      <th>longitude</th>\n",
       "    </tr>\n",
       "  </thead>\n",
       "  <tbody>\n",
       "    <tr>\n",
       "      <th>count</th>\n",
       "      <td>782.000000</td>\n",
       "      <td>782.000000</td>\n",
       "      <td>782.000000</td>\n",
       "      <td>782.000000</td>\n",
       "      <td>782.000000</td>\n",
       "      <td>782.000000</td>\n",
       "      <td>782.000000</td>\n",
       "      <td>782.000000</td>\n",
       "      <td>782.000000</td>\n",
       "      <td>782.000000</td>\n",
       "      <td>782.000000</td>\n",
       "    </tr>\n",
       "    <tr>\n",
       "      <th>mean</th>\n",
       "      <td>6.941406</td>\n",
       "      <td>4.333760</td>\n",
       "      <td>5.964194</td>\n",
       "      <td>0.388747</td>\n",
       "      <td>870.108696</td>\n",
       "      <td>230.250639</td>\n",
       "      <td>1.326172</td>\n",
       "      <td>25.046875</td>\n",
       "      <td>75.875000</td>\n",
       "      <td>3.539062</td>\n",
       "      <td>52.625000</td>\n",
       "    </tr>\n",
       "    <tr>\n",
       "      <th>std</th>\n",
       "      <td>0.445557</td>\n",
       "      <td>3.169939</td>\n",
       "      <td>1.462724</td>\n",
       "      <td>0.487778</td>\n",
       "      <td>322.465367</td>\n",
       "      <td>250.188177</td>\n",
       "      <td>2.218750</td>\n",
       "      <td>24.234375</td>\n",
       "      <td>inf</td>\n",
       "      <td>27.296875</td>\n",
       "      <td>117.875000</td>\n",
       "    </tr>\n",
       "    <tr>\n",
       "      <th>min</th>\n",
       "      <td>6.500000</td>\n",
       "      <td>0.000000</td>\n",
       "      <td>1.000000</td>\n",
       "      <td>0.000000</td>\n",
       "      <td>650.000000</td>\n",
       "      <td>0.000000</td>\n",
       "      <td>0.000000</td>\n",
       "      <td>0.000000</td>\n",
       "      <td>2.699219</td>\n",
       "      <td>-61.843750</td>\n",
       "      <td>-180.000000</td>\n",
       "    </tr>\n",
       "    <tr>\n",
       "      <th>25%</th>\n",
       "      <td>6.601562</td>\n",
       "      <td>0.000000</td>\n",
       "      <td>5.000000</td>\n",
       "      <td>0.000000</td>\n",
       "      <td>691.000000</td>\n",
       "      <td>0.000000</td>\n",
       "      <td>0.000000</td>\n",
       "      <td>14.626953</td>\n",
       "      <td>14.000000</td>\n",
       "      <td>-14.597656</td>\n",
       "      <td>-71.671875</td>\n",
       "    </tr>\n",
       "    <tr>\n",
       "      <th>50%</th>\n",
       "      <td>6.800781</td>\n",
       "      <td>5.000000</td>\n",
       "      <td>6.000000</td>\n",
       "      <td>0.000000</td>\n",
       "      <td>754.000000</td>\n",
       "      <td>140.000000</td>\n",
       "      <td>0.000000</td>\n",
       "      <td>20.000000</td>\n",
       "      <td>26.296875</td>\n",
       "      <td>-2.572266</td>\n",
       "      <td>109.437500</td>\n",
       "    </tr>\n",
       "    <tr>\n",
       "      <th>75%</th>\n",
       "      <td>7.101562</td>\n",
       "      <td>7.000000</td>\n",
       "      <td>7.000000</td>\n",
       "      <td>1.000000</td>\n",
       "      <td>909.750000</td>\n",
       "      <td>445.000000</td>\n",
       "      <td>1.863281</td>\n",
       "      <td>30.000000</td>\n",
       "      <td>49.750000</td>\n",
       "      <td>24.660156</td>\n",
       "      <td>148.968750</td>\n",
       "    </tr>\n",
       "    <tr>\n",
       "      <th>max</th>\n",
       "      <td>9.101562</td>\n",
       "      <td>9.000000</td>\n",
       "      <td>9.000000</td>\n",
       "      <td>1.000000</td>\n",
       "      <td>2910.000000</td>\n",
       "      <td>934.000000</td>\n",
       "      <td>17.656250</td>\n",
       "      <td>239.000000</td>\n",
       "      <td>671.000000</td>\n",
       "      <td>71.625000</td>\n",
       "      <td>179.625000</td>\n",
       "    </tr>\n",
       "  </tbody>\n",
       "</table>\n",
       "</div>"
      ],
      "text/plain": [
       "        magnitude         cdi         mmi     tsunami          sig  \\\n",
       "count  782.000000  782.000000  782.000000  782.000000   782.000000   \n",
       "mean     6.941406    4.333760    5.964194    0.388747   870.108696   \n",
       "std      0.445557    3.169939    1.462724    0.487778   322.465367   \n",
       "min      6.500000    0.000000    1.000000    0.000000   650.000000   \n",
       "25%      6.601562    0.000000    5.000000    0.000000   691.000000   \n",
       "50%      6.800781    5.000000    6.000000    0.000000   754.000000   \n",
       "75%      7.101562    7.000000    7.000000    1.000000   909.750000   \n",
       "max      9.101562    9.000000    9.000000    1.000000  2910.000000   \n",
       "\n",
       "              nst        dmin         gap       depth    latitude   longitude  \n",
       "count  782.000000  782.000000  782.000000  782.000000  782.000000  782.000000  \n",
       "mean   230.250639    1.326172   25.046875   75.875000    3.539062   52.625000  \n",
       "std    250.188177    2.218750   24.234375         inf   27.296875  117.875000  \n",
       "min      0.000000    0.000000    0.000000    2.699219  -61.843750 -180.000000  \n",
       "25%      0.000000    0.000000   14.626953   14.000000  -14.597656  -71.671875  \n",
       "50%    140.000000    0.000000   20.000000   26.296875   -2.572266  109.437500  \n",
       "75%    445.000000    1.863281   30.000000   49.750000   24.660156  148.968750  \n",
       "max    934.000000   17.656250  239.000000  671.000000   71.625000  179.625000  "
      ]
     },
     "execution_count": 156,
     "metadata": {},
     "output_type": "execute_result"
    }
   ],
   "source": [
    "quakes.describe()"
   ]
  },
  {
   "attachments": {},
   "cell_type": "markdown",
   "metadata": {},
   "source": [
    "We can already observe that the dataset is biased as it only includes earthquakes of magnitude 6.5 and higher!\n",
    "\n",
    "NST: minimun is too low as it implies that no sismic stations determind earthquake locations. \n",
    "\n",
    "\n",
    "Sig: 0, 1000. We can see an anomaly as the max is 2910.\n",
    "\n",
    "CDI: 0.0 - 10.0\n",
    "\n",
    "GAP: 0.0 - 100.0. Anomaly as max is 239. "
   ]
  },
  {
   "attachments": {},
   "cell_type": "markdown",
   "metadata": {},
   "source": [
    "### NST"
   ]
  },
  {
   "attachments": {},
   "cell_type": "markdown",
   "metadata": {},
   "source": [
    "Number of seismic stations which reported P- and S-arrival times for this earthquake. This number may be larger than the Number of Phases Used if arrival times are rejected because the distance to a seismic station exceeds the maximum allowable distance or because the arrival-time observation is inconsistent with the solution."
   ]
  },
  {
   "cell_type": "code",
   "execution_count": 157,
   "metadata": {},
   "outputs": [
    {
     "name": "stdout",
     "output_type": "stream",
     "text": [
      "Earthquakes with NST == 0:  365\n"
     ]
    }
   ],
   "source": [
    "print(\"Earthquakes with NST == 0: \",quakes[quakes.nst == 0].shape[0])\n"
   ]
  },
  {
   "cell_type": "code",
   "execution_count": 181,
   "metadata": {},
   "outputs": [
    {
     "data": {
      "image/png": "[encoded data removed]",
      "text/plain": [
       "<Figure size 1000x600 with 2 Axes>"
      ]
     },
     "metadata": {},
     "output_type": "display_data"
    }
   ],
   "source": [
    "fig, axes = plt.subplots(ncols=2, figsize=(10,6))\n",
    "\n",
    "sns.histplot(data=quakes, x='nst', bins=20, kde=True, ax=axes[0])\n",
    "axes[0].set_title('Distribution of NST')\n",
    "\n",
    "sns.boxplot(data=quakes, y='nst', ax=axes[1])\n",
    "axes[1].set_title('Boxplot of NST')\n",
    "\n",
    "plt.tight_layout()\n",
    "\n",
    "plt.show()"
   ]
  },
  {
   "attachments": {},
   "cell_type": "markdown",
   "metadata": {},
   "source": [
    "We might consider dropping datapoints equal to zero as it may mean less accurate data. Also, without that tail we would have a normal distribution. "
   ]
  },
  {
   "attachments": {},
   "cell_type": "markdown",
   "metadata": {},
   "source": [
    "### MMI"
   ]
  },
  {
   "attachments": {},
   "cell_type": "markdown",
   "metadata": {},
   "source": [
    "Modified Mercalli Intensity estimates the shaking intensity from an earthquake at a specific location by considerings its effects on people, objects and buildings. High intensity above 6 MMI. The severity of the damage depends on the building type, the age of the building, and the quality of the construction. \n",
    "\n",
    "The maximum estimated instrumental intensity for the event. Computed by ShakeMap. While typically reported as a roman numeral, for the purposes of this API, intensity is expected as the decimal equivalent of the roman numeral. Learn more about magnitude vs. intensity."
   ]
  },
  {
   "attachments": {},
   "cell_type": "markdown",
   "metadata": {},
   "source": [
    "Ranges from [0.0 - 10.0]"
   ]
  },
  {
   "cell_type": "code",
   "execution_count": 159,
   "metadata": {},
   "outputs": [
    {
     "data": {
      "image/png": "[encoded data removed]",
      "text/plain": [
       "<Figure size 1000x600 with 2 Axes>"
      ]
     },
     "metadata": {},
     "output_type": "display_data"
    }
   ],
   "source": [
    "fig, axes = plt.subplots(ncols=2, figsize=(10,6))\n",
    "\n",
    "sns.histplot(data=quakes, x='mmi', bins=20, kde=True, ax=axes[0])\n",
    "axes[0].set_title('Distribution of MMI')\n",
    "\n",
    "sns.boxplot(data=quakes, y='mmi', ax=axes[1])\n",
    "axes[1].set_title('Boxplot of MMI')\n",
    "\n",
    "plt.tight_layout()\n",
    "\n",
    "plt.show()"
   ]
  },
  {
   "cell_type": "code",
   "execution_count": 160,
   "metadata": {},
   "outputs": [
    {
     "data": {
      "text/html": [
       "<div>\n",
       "<style scoped>\n",
       "    .dataframe tbody tr th:only-of-type {\n",
       "        vertical-align: middle;\n",
       "    }\n",
       "\n",
       "    .dataframe tbody tr th {\n",
       "        vertical-align: top;\n",
       "    }\n",
       "\n",
       "    .dataframe thead th {\n",
       "        text-align: right;\n",
       "    }\n",
       "</style>\n",
       "<table border=\"1\" class=\"dataframe\">\n",
       "  <thead>\n",
       "    <tr style=\"text-align: right;\">\n",
       "      <th></th>\n",
       "      <th>title</th>\n",
       "      <th>magnitude</th>\n",
       "      <th>date_time</th>\n",
       "      <th>cdi</th>\n",
       "      <th>mmi</th>\n",
       "      <th>alert</th>\n",
       "      <th>tsunami</th>\n",
       "      <th>sig</th>\n",
       "      <th>net</th>\n",
       "      <th>nst</th>\n",
       "      <th>dmin</th>\n",
       "      <th>gap</th>\n",
       "      <th>magType</th>\n",
       "      <th>depth</th>\n",
       "      <th>latitude</th>\n",
       "      <th>longitude</th>\n",
       "      <th>location</th>\n",
       "      <th>continent</th>\n",
       "      <th>country</th>\n",
       "    </tr>\n",
       "  </thead>\n",
       "  <tbody>\n",
       "    <tr>\n",
       "      <th>160</th>\n",
       "      <td>M 6.5 - south of the Fiji Islands</td>\n",
       "      <td>6.5</td>\n",
       "      <td>2018-09-16 21:11:00</td>\n",
       "      <td>4</td>\n",
       "      <td>1</td>\n",
       "      <td>green</td>\n",
       "      <td>0</td>\n",
       "      <td>651</td>\n",
       "      <td>us</td>\n",
       "      <td>0</td>\n",
       "      <td>5.140625</td>\n",
       "      <td>18.0</td>\n",
       "      <td>mww</td>\n",
       "      <td>576.0</td>\n",
       "      <td>-25.421875</td>\n",
       "      <td>178.25</td>\n",
       "      <td>the Fiji Islands</td>\n",
       "      <td>NaN</td>\n",
       "      <td>NaN</td>\n",
       "    </tr>\n",
       "  </tbody>\n",
       "</table>\n",
       "</div>"
      ],
      "text/plain": [
       "                                 title  magnitude           date_time  cdi  \\\n",
       "160  M 6.5 - south of the Fiji Islands        6.5 2018-09-16 21:11:00    4   \n",
       "\n",
       "     mmi  alert  tsunami  sig net  nst      dmin   gap magType  depth  \\\n",
       "160    1  green        0  651  us    0  5.140625  18.0     mww  576.0   \n",
       "\n",
       "      latitude  longitude          location continent country  \n",
       "160 -25.421875     178.25  the Fiji Islands       NaN     NaN  "
      ]
     },
     "execution_count": 160,
     "metadata": {},
     "output_type": "execute_result"
    }
   ],
   "source": [
    "quakes[quakes.mmi < 2]"
   ]
  },
  {
   "attachments": {},
   "cell_type": "markdown",
   "metadata": {},
   "source": [
    "This datapoint should not be removed as it happened at 576km of depth and there had a very low intensity.\n",
    "\n",
    "Reference: https://www.volcanodiscovery.com/earthquakes/2018/09/16/21h11/magnitude6-SouthofFijiIslands-quake.html"
   ]
  },
  {
   "attachments": {},
   "cell_type": "markdown",
   "metadata": {},
   "source": [
    "What is the **mode**?"
   ]
  },
  {
   "cell_type": "code",
   "execution_count": 163,
   "metadata": {},
   "outputs": [
    {
     "name": "stdout",
     "output_type": "stream",
     "text": [
      "Mode of MMI:  7\n"
     ]
    }
   ],
   "source": [
    "print(\"Mode of MMI: \",quakes.mmi.mode()[0])"
   ]
  },
  {
   "cell_type": "code",
   "execution_count": 164,
   "metadata": {},
   "outputs": [
    {
     "name": "stdout",
     "output_type": "stream",
     "text": [
      "Median of MMI:  6.0\n"
     ]
    }
   ],
   "source": [
    "print(\"Median of MMI: \", quakes.mmi.median())"
   ]
  },
  {
   "attachments": {},
   "cell_type": "markdown",
   "metadata": {},
   "source": [
    "As we can see the most frequent mmi is very strong."
   ]
  },
  {
   "attachments": {},
   "cell_type": "markdown",
   "metadata": {},
   "source": [
    "### Sig"
   ]
  },
  {
   "attachments": {},
   "cell_type": "markdown",
   "metadata": {},
   "source": [
    "A number describing how significant the event is. Larger numbers indicate a more significant event. This value is determined on a number of factors, including: magnitude, maximum MMI, felt reports, and estimated impact."
   ]
  },
  {
   "cell_type": "code",
   "execution_count": 118,
   "metadata": {},
   "outputs": [
    {
     "data": {
      "image/png": "[encoded data removed]",
      "text/plain": [
       "<Figure size 1000x600 with 2 Axes>"
      ]
     },
     "metadata": {},
     "output_type": "display_data"
    }
   ],
   "source": [
    "fig, axes = plt.subplots(ncols=2, figsize=(10,6))\n",
    "\n",
    "sns.histplot(data=quakes, x='sig', bins=20, kde=True, ax=axes[0])\n",
    "axes[0].set_title('Distribution of Significant Earthquakes')\n",
    "\n",
    "sns.boxplot(data=quakes, x='sig', ax=axes[1])\n",
    "axes[1].set_title('Boxplot of Significant Earthquakes')\n",
    "\n",
    "plt.tight_layout()\n",
    "\n",
    "plt.show()"
   ]
  },
  {
   "cell_type": "code",
   "execution_count": 120,
   "metadata": {},
   "outputs": [
    {
     "data": {
      "text/html": [
       "<div>\n",
       "<style scoped>\n",
       "    .dataframe tbody tr th:only-of-type {\n",
       "        vertical-align: middle;\n",
       "    }\n",
       "\n",
       "    .dataframe tbody tr th {\n",
       "        vertical-align: top;\n",
       "    }\n",
       "\n",
       "    .dataframe thead th {\n",
       "        text-align: right;\n",
       "    }\n",
       "</style>\n",
       "<table border=\"1\" class=\"dataframe\">\n",
       "  <thead>\n",
       "    <tr style=\"text-align: right;\">\n",
       "      <th></th>\n",
       "      <th>title</th>\n",
       "      <th>magnitude</th>\n",
       "      <th>date_time</th>\n",
       "      <th>cdi</th>\n",
       "      <th>mmi</th>\n",
       "      <th>alert</th>\n",
       "      <th>tsunami</th>\n",
       "      <th>sig</th>\n",
       "      <th>net</th>\n",
       "      <th>nst</th>\n",
       "      <th>dmin</th>\n",
       "      <th>gap</th>\n",
       "      <th>magType</th>\n",
       "      <th>depth</th>\n",
       "      <th>latitude</th>\n",
       "      <th>longitude</th>\n",
       "      <th>location</th>\n",
       "      <th>continent</th>\n",
       "      <th>country</th>\n",
       "    </tr>\n",
       "  </thead>\n",
       "  <tbody>\n",
       "    <tr>\n",
       "      <th>25</th>\n",
       "      <td>M 7.3 - 57 km ENE of Namie, Japan</td>\n",
       "      <td>7.300781</td>\n",
       "      <td>2022-03-16 14:36:00</td>\n",
       "      <td>9</td>\n",
       "      <td>8</td>\n",
       "      <td>red</td>\n",
       "      <td>1</td>\n",
       "      <td>2397</td>\n",
       "      <td>us</td>\n",
       "      <td>0</td>\n",
       "      <td>2.935547</td>\n",
       "      <td>29.000000</td>\n",
       "      <td>mww</td>\n",
       "      <td>41.000000</td>\n",
       "      <td>37.687500</td>\n",
       "      <td>141.62500</td>\n",
       "      <td>Namie, Japan</td>\n",
       "      <td>NaN</td>\n",
       "      <td>NaN</td>\n",
       "    </tr>\n",
       "    <tr>\n",
       "      <th>48</th>\n",
       "      <td>M 7.0 - Acapulco, Mexico</td>\n",
       "      <td>7.000000</td>\n",
       "      <td>2021-08-09 01:47:00</td>\n",
       "      <td>8</td>\n",
       "      <td>8</td>\n",
       "      <td>red</td>\n",
       "      <td>1</td>\n",
       "      <td>2504</td>\n",
       "      <td>us</td>\n",
       "      <td>0</td>\n",
       "      <td>0.070007</td>\n",
       "      <td>43.000000</td>\n",
       "      <td>mww</td>\n",
       "      <td>20.000000</td>\n",
       "      <td>16.953125</td>\n",
       "      <td>-99.81250</td>\n",
       "      <td>Acapulco, Mexico</td>\n",
       "      <td>North America</td>\n",
       "      <td>Mexico</td>\n",
       "    </tr>\n",
       "    <tr>\n",
       "      <th>53</th>\n",
       "      <td>M 7.2 - Nippes, Haiti</td>\n",
       "      <td>7.199219</td>\n",
       "      <td>2021-08-14 12:29:00</td>\n",
       "      <td>9</td>\n",
       "      <td>8</td>\n",
       "      <td>red</td>\n",
       "      <td>1</td>\n",
       "      <td>2331</td>\n",
       "      <td>us</td>\n",
       "      <td>0</td>\n",
       "      <td>1.177734</td>\n",
       "      <td>23.000000</td>\n",
       "      <td>mww</td>\n",
       "      <td>10.000000</td>\n",
       "      <td>18.359375</td>\n",
       "      <td>-73.50000</td>\n",
       "      <td>Nippes, Haiti</td>\n",
       "      <td>North America</td>\n",
       "      <td>Haiti</td>\n",
       "    </tr>\n",
       "    <tr>\n",
       "      <th>159</th>\n",
       "      <td>M 7.5 - 72 km N of Palu, Indonesia</td>\n",
       "      <td>7.500000</td>\n",
       "      <td>2018-09-28 10:02:00</td>\n",
       "      <td>8</td>\n",
       "      <td>8</td>\n",
       "      <td>red</td>\n",
       "      <td>0</td>\n",
       "      <td>2026</td>\n",
       "      <td>us</td>\n",
       "      <td>0</td>\n",
       "      <td>1.649414</td>\n",
       "      <td>13.000000</td>\n",
       "      <td>mww</td>\n",
       "      <td>20.000000</td>\n",
       "      <td>-0.255859</td>\n",
       "      <td>119.87500</td>\n",
       "      <td>Palu, Indonesia</td>\n",
       "      <td>NaN</td>\n",
       "      <td>Indonesia</td>\n",
       "    </tr>\n",
       "    <tr>\n",
       "      <th>190</th>\n",
       "      <td>M 7.3 - 29 km S of ?alabja, Iraq</td>\n",
       "      <td>7.300781</td>\n",
       "      <td>2017-12-11 18:18:00</td>\n",
       "      <td>8</td>\n",
       "      <td>9</td>\n",
       "      <td>red</td>\n",
       "      <td>0</td>\n",
       "      <td>2790</td>\n",
       "      <td>us</td>\n",
       "      <td>0</td>\n",
       "      <td>0.283936</td>\n",
       "      <td>33.000000</td>\n",
       "      <td>mww</td>\n",
       "      <td>19.000000</td>\n",
       "      <td>34.906250</td>\n",
       "      <td>45.96875</td>\n",
       "      <td>?alabja, Iraq</td>\n",
       "      <td>Asia</td>\n",
       "      <td>Iran</td>\n",
       "    </tr>\n",
       "    <tr>\n",
       "      <th>198</th>\n",
       "      <td>M 8.2 - near the coast of Chiapas, Mexico</td>\n",
       "      <td>8.203125</td>\n",
       "      <td>2017-08-09 04:49:00</td>\n",
       "      <td>9</td>\n",
       "      <td>7</td>\n",
       "      <td>red</td>\n",
       "      <td>1</td>\n",
       "      <td>2910</td>\n",
       "      <td>us</td>\n",
       "      <td>0</td>\n",
       "      <td>0.943848</td>\n",
       "      <td>22.000000</td>\n",
       "      <td>mww</td>\n",
       "      <td>47.375000</td>\n",
       "      <td>15.023438</td>\n",
       "      <td>-93.87500</td>\n",
       "      <td>Chiapas, Mexico</td>\n",
       "      <td>NaN</td>\n",
       "      <td>NaN</td>\n",
       "    </tr>\n",
       "    <tr>\n",
       "      <th>235</th>\n",
       "      <td>M 6.6 - 5 km ESE of Preci, Italy</td>\n",
       "      <td>6.601562</td>\n",
       "      <td>2016-10-30 06:40:00</td>\n",
       "      <td>9</td>\n",
       "      <td>8</td>\n",
       "      <td>red</td>\n",
       "      <td>0</td>\n",
       "      <td>2840</td>\n",
       "      <td>us</td>\n",
       "      <td>0</td>\n",
       "      <td>0.173950</td>\n",
       "      <td>25.000000</td>\n",
       "      <td>mww</td>\n",
       "      <td>8.000000</td>\n",
       "      <td>42.875000</td>\n",
       "      <td>13.09375</td>\n",
       "      <td>Preci, Italy</td>\n",
       "      <td>Europe</td>\n",
       "      <td>Italy</td>\n",
       "    </tr>\n",
       "    <tr>\n",
       "      <th>251</th>\n",
       "      <td>M 7.0 - 6 km ESE of Kumamoto, Japan</td>\n",
       "      <td>7.000000</td>\n",
       "      <td>2016-04-15 16:25:00</td>\n",
       "      <td>9</td>\n",
       "      <td>9</td>\n",
       "      <td>red</td>\n",
       "      <td>1</td>\n",
       "      <td>2074</td>\n",
       "      <td>us</td>\n",
       "      <td>0</td>\n",
       "      <td>0.349121</td>\n",
       "      <td>32.000000</td>\n",
       "      <td>mww</td>\n",
       "      <td>10.000000</td>\n",
       "      <td>32.781250</td>\n",
       "      <td>130.75000</td>\n",
       "      <td>Kumamoto, Japan</td>\n",
       "      <td>Asia</td>\n",
       "      <td>Japan</td>\n",
       "    </tr>\n",
       "    <tr>\n",
       "      <th>285</th>\n",
       "      <td>M 8.3 - 48 km W of Illapel, Chile</td>\n",
       "      <td>8.296875</td>\n",
       "      <td>2015-09-16 22:54:00</td>\n",
       "      <td>9</td>\n",
       "      <td>8</td>\n",
       "      <td>orange</td>\n",
       "      <td>1</td>\n",
       "      <td>1960</td>\n",
       "      <td>us</td>\n",
       "      <td>0</td>\n",
       "      <td>0.684082</td>\n",
       "      <td>19.000000</td>\n",
       "      <td>mww</td>\n",
       "      <td>22.437500</td>\n",
       "      <td>-31.578125</td>\n",
       "      <td>-71.68750</td>\n",
       "      <td>Illapel, Chile</td>\n",
       "      <td>NaN</td>\n",
       "      <td>Chile</td>\n",
       "    </tr>\n",
       "    <tr>\n",
       "      <th>308</th>\n",
       "      <td>M 7.8 - 67 km NNE of Bharatpur, Nepal</td>\n",
       "      <td>7.800781</td>\n",
       "      <td>2015-04-25 06:11:00</td>\n",
       "      <td>8</td>\n",
       "      <td>9</td>\n",
       "      <td>red</td>\n",
       "      <td>0</td>\n",
       "      <td>2820</td>\n",
       "      <td>us</td>\n",
       "      <td>0</td>\n",
       "      <td>1.857422</td>\n",
       "      <td>12.000000</td>\n",
       "      <td>mww</td>\n",
       "      <td>8.218750</td>\n",
       "      <td>28.234375</td>\n",
       "      <td>84.75000</td>\n",
       "      <td>Bharatpur, Nepal</td>\n",
       "      <td>Asia</td>\n",
       "      <td>Nepal</td>\n",
       "    </tr>\n",
       "    <tr>\n",
       "      <th>378</th>\n",
       "      <td>M 7.7 - 113 km NW of Bela, Pakistan</td>\n",
       "      <td>7.699219</td>\n",
       "      <td>2013-09-24 11:29:00</td>\n",
       "      <td>5</td>\n",
       "      <td>8</td>\n",
       "      <td>red</td>\n",
       "      <td>0</td>\n",
       "      <td>2015</td>\n",
       "      <td>us</td>\n",
       "      <td>0</td>\n",
       "      <td>7.242188</td>\n",
       "      <td>17.000000</td>\n",
       "      <td>mww</td>\n",
       "      <td>15.000000</td>\n",
       "      <td>26.953125</td>\n",
       "      <td>65.50000</td>\n",
       "      <td>Bela, Pakistan</td>\n",
       "      <td>Asia</td>\n",
       "      <td>Pakistan</td>\n",
       "    </tr>\n",
       "    <tr>\n",
       "      <th>397</th>\n",
       "      <td>M 6.6 - 56 km WSW of Linqiong, China</td>\n",
       "      <td>6.601562</td>\n",
       "      <td>2013-04-20 00:02:00</td>\n",
       "      <td>8</td>\n",
       "      <td>8</td>\n",
       "      <td>red</td>\n",
       "      <td>0</td>\n",
       "      <td>2083</td>\n",
       "      <td>us</td>\n",
       "      <td>548</td>\n",
       "      <td>0.000000</td>\n",
       "      <td>12.601562</td>\n",
       "      <td>mww</td>\n",
       "      <td>14.000000</td>\n",
       "      <td>30.312500</td>\n",
       "      <td>102.87500</td>\n",
       "      <td>Linqiong, China</td>\n",
       "      <td>Asia</td>\n",
       "      <td>People's Republic of China</td>\n",
       "    </tr>\n",
       "    <tr>\n",
       "      <th>441</th>\n",
       "      <td>M 8.6 - off the west coast of northern Sumatra</td>\n",
       "      <td>8.601562</td>\n",
       "      <td>2012-11-04 08:38:00</td>\n",
       "      <td>9</td>\n",
       "      <td>7</td>\n",
       "      <td>yellow</td>\n",
       "      <td>0</td>\n",
       "      <td>2048</td>\n",
       "      <td>official</td>\n",
       "      <td>499</td>\n",
       "      <td>0.000000</td>\n",
       "      <td>16.593750</td>\n",
       "      <td>mw</td>\n",
       "      <td>20.000000</td>\n",
       "      <td>2.326172</td>\n",
       "      <td>93.06250</td>\n",
       "      <td>off the west coast of northern Sumatra</td>\n",
       "      <td>NaN</td>\n",
       "      <td>NaN</td>\n",
       "    </tr>\n",
       "    <tr>\n",
       "      <th>476</th>\n",
       "      <td>M 9.1 - 2011 Great Tohoku Earthquake, Japan</td>\n",
       "      <td>9.101562</td>\n",
       "      <td>2011-11-03 05:46:00</td>\n",
       "      <td>9</td>\n",
       "      <td>8</td>\n",
       "      <td>NaN</td>\n",
       "      <td>0</td>\n",
       "      <td>2184</td>\n",
       "      <td>official</td>\n",
       "      <td>541</td>\n",
       "      <td>0.000000</td>\n",
       "      <td>9.500000</td>\n",
       "      <td>mww</td>\n",
       "      <td>29.000000</td>\n",
       "      <td>38.312500</td>\n",
       "      <td>142.37500</td>\n",
       "      <td>2011 Great Tohoku Earthquake, Japan</td>\n",
       "      <td>NaN</td>\n",
       "      <td>NaN</td>\n",
       "    </tr>\n",
       "    <tr>\n",
       "      <th>507</th>\n",
       "      <td>M 7.2 - 12km SW of Delta, B.C., MX</td>\n",
       "      <td>7.199219</td>\n",
       "      <td>2010-04-04 22:40:00</td>\n",
       "      <td>9</td>\n",
       "      <td>9</td>\n",
       "      <td>red</td>\n",
       "      <td>0</td>\n",
       "      <td>2910</td>\n",
       "      <td>ci</td>\n",
       "      <td>10</td>\n",
       "      <td>0.513672</td>\n",
       "      <td>239.000000</td>\n",
       "      <td>mw</td>\n",
       "      <td>9.984375</td>\n",
       "      <td>32.281250</td>\n",
       "      <td>-115.31250</td>\n",
       "      <td>Delta, B.C., MX</td>\n",
       "      <td>North America</td>\n",
       "      <td>Mexico</td>\n",
       "    </tr>\n",
       "    <tr>\n",
       "      <th>517</th>\n",
       "      <td>M 8.8 - 36 km WNW of Quirihue, Chile</td>\n",
       "      <td>8.796875</td>\n",
       "      <td>2010-02-27 06:34:00</td>\n",
       "      <td>8</td>\n",
       "      <td>8</td>\n",
       "      <td>NaN</td>\n",
       "      <td>0</td>\n",
       "      <td>1991</td>\n",
       "      <td>official</td>\n",
       "      <td>454</td>\n",
       "      <td>0.000000</td>\n",
       "      <td>17.796875</td>\n",
       "      <td>mww</td>\n",
       "      <td>22.906250</td>\n",
       "      <td>-36.125000</td>\n",
       "      <td>-72.87500</td>\n",
       "      <td>Quirihue, Chile</td>\n",
       "      <td>South America</td>\n",
       "      <td>Chile</td>\n",
       "    </tr>\n",
       "  </tbody>\n",
       "</table>\n",
       "</div>"
      ],
      "text/plain": [
       "                                              title  magnitude  \\\n",
       "25                M 7.3 - 57 km ENE of Namie, Japan   7.300781   \n",
       "48                         M 7.0 - Acapulco, Mexico   7.000000   \n",
       "53                            M 7.2 - Nippes, Haiti   7.199219   \n",
       "159              M 7.5 - 72 km N of Palu, Indonesia   7.500000   \n",
       "190                M 7.3 - 29 km S of ?alabja, Iraq   7.300781   \n",
       "198       M 8.2 - near the coast of Chiapas, Mexico   8.203125   \n",
       "235                M 6.6 - 5 km ESE of Preci, Italy   6.601562   \n",
       "251             M 7.0 - 6 km ESE of Kumamoto, Japan   7.000000   \n",
       "285               M 8.3 - 48 km W of Illapel, Chile   8.296875   \n",
       "308           M 7.8 - 67 km NNE of Bharatpur, Nepal   7.800781   \n",
       "378             M 7.7 - 113 km NW of Bela, Pakistan   7.699219   \n",
       "397            M 6.6 - 56 km WSW of Linqiong, China   6.601562   \n",
       "441  M 8.6 - off the west coast of northern Sumatra   8.601562   \n",
       "476     M 9.1 - 2011 Great Tohoku Earthquake, Japan   9.101562   \n",
       "507              M 7.2 - 12km SW of Delta, B.C., MX   7.199219   \n",
       "517            M 8.8 - 36 km WNW of Quirihue, Chile   8.796875   \n",
       "\n",
       "              date_time  cdi  mmi   alert  tsunami   sig       net  nst  \\\n",
       "25  2022-03-16 14:36:00    9    8     red        1  2397        us    0   \n",
       "48  2021-08-09 01:47:00    8    8     red        1  2504        us    0   \n",
       "53  2021-08-14 12:29:00    9    8     red        1  2331        us    0   \n",
       "159 2018-09-28 10:02:00    8    8     red        0  2026        us    0   \n",
       "190 2017-12-11 18:18:00    8    9     red        0  2790        us    0   \n",
       "198 2017-08-09 04:49:00    9    7     red        1  2910        us    0   \n",
       "235 2016-10-30 06:40:00    9    8     red        0  2840        us    0   \n",
       "251 2016-04-15 16:25:00    9    9     red        1  2074        us    0   \n",
       "285 2015-09-16 22:54:00    9    8  orange        1  1960        us    0   \n",
       "308 2015-04-25 06:11:00    8    9     red        0  2820        us    0   \n",
       "378 2013-09-24 11:29:00    5    8     red        0  2015        us    0   \n",
       "397 2013-04-20 00:02:00    8    8     red        0  2083        us  548   \n",
       "441 2012-11-04 08:38:00    9    7  yellow        0  2048  official  499   \n",
       "476 2011-11-03 05:46:00    9    8     NaN        0  2184  official  541   \n",
       "507 2010-04-04 22:40:00    9    9     red        0  2910        ci   10   \n",
       "517 2010-02-27 06:34:00    8    8     NaN        0  1991  official  454   \n",
       "\n",
       "         dmin         gap magType      depth   latitude  longitude  \\\n",
       "25   2.935547   29.000000     mww  41.000000  37.687500  141.62500   \n",
       "48   0.070007   43.000000     mww  20.000000  16.953125  -99.81250   \n",
       "53   1.177734   23.000000     mww  10.000000  18.359375  -73.50000   \n",
       "159  1.649414   13.000000     mww  20.000000  -0.255859  119.87500   \n",
       "190  0.283936   33.000000     mww  19.000000  34.906250   45.96875   \n",
       "198  0.943848   22.000000     mww  47.375000  15.023438  -93.87500   \n",
       "235  0.173950   25.000000     mww   8.000000  42.875000   13.09375   \n",
       "251  0.349121   32.000000     mww  10.000000  32.781250  130.75000   \n",
       "285  0.684082   19.000000     mww  22.437500 -31.578125  -71.68750   \n",
       "308  1.857422   12.000000     mww   8.218750  28.234375   84.75000   \n",
       "378  7.242188   17.000000     mww  15.000000  26.953125   65.50000   \n",
       "397  0.000000   12.601562     mww  14.000000  30.312500  102.87500   \n",
       "441  0.000000   16.593750      mw  20.000000   2.326172   93.06250   \n",
       "476  0.000000    9.500000     mww  29.000000  38.312500  142.37500   \n",
       "507  0.513672  239.000000      mw   9.984375  32.281250 -115.31250   \n",
       "517  0.000000   17.796875     mww  22.906250 -36.125000  -72.87500   \n",
       "\n",
       "                                   location      continent  \\\n",
       "25                             Namie, Japan            NaN   \n",
       "48                         Acapulco, Mexico  North America   \n",
       "53                            Nippes, Haiti  North America   \n",
       "159                         Palu, Indonesia            NaN   \n",
       "190                           ?alabja, Iraq           Asia   \n",
       "198                         Chiapas, Mexico            NaN   \n",
       "235                            Preci, Italy         Europe   \n",
       "251                         Kumamoto, Japan           Asia   \n",
       "285                          Illapel, Chile            NaN   \n",
       "308                        Bharatpur, Nepal           Asia   \n",
       "378                          Bela, Pakistan           Asia   \n",
       "397                         Linqiong, China           Asia   \n",
       "441  off the west coast of northern Sumatra            NaN   \n",
       "476     2011 Great Tohoku Earthquake, Japan            NaN   \n",
       "507                         Delta, B.C., MX  North America   \n",
       "517                         Quirihue, Chile  South America   \n",
       "\n",
       "                        country  \n",
       "25                          NaN  \n",
       "48                       Mexico  \n",
       "53                        Haiti  \n",
       "159                   Indonesia  \n",
       "190                        Iran  \n",
       "198                         NaN  \n",
       "235                       Italy  \n",
       "251                       Japan  \n",
       "285                       Chile  \n",
       "308                       Nepal  \n",
       "378                    Pakistan  \n",
       "397  People's Republic of China  \n",
       "441                         NaN  \n",
       "476                         NaN  \n",
       "507                      Mexico  \n",
       "517                       Chile  "
      ]
     },
     "execution_count": 120,
     "metadata": {},
     "output_type": "execute_result"
    }
   ],
   "source": [
    "quakes[quakes.sig > 1900]"
   ]
  },
  {
   "cell_type": "code",
   "execution_count": 116,
   "metadata": {},
   "outputs": [
    {
     "data": {
      "text/plain": [
       "<AxesSubplot: xlabel='sig'>"
      ]
     },
     "execution_count": 116,
     "metadata": {},
     "output_type": "execute_result"
    },
    {
     "data": {
      "image/png": "[encoded data removed]",
      "text/plain": [
       "<Figure size 640x480 with 1 Axes>"
      ]
     },
     "metadata": {},
     "output_type": "display_data"
    }
   ],
   "source": [
    "sns.boxplot(data=quakes, x='sig')"
   ]
  },
  {
   "attachments": {},
   "cell_type": "markdown",
   "metadata": {},
   "source": [
    "There are several earthquakes with very high Sig values. Above 600 is already considered strong so a value higher than 1500 would be too high."
   ]
  },
  {
   "attachments": {},
   "cell_type": "markdown",
   "metadata": {},
   "source": [
    "### Net"
   ]
  },
  {
   "cell_type": "code",
   "execution_count": 123,
   "metadata": {},
   "outputs": [
    {
     "data": {
      "text/plain": [
       "<AxesSubplot: >"
      ]
     },
     "execution_count": 123,
     "metadata": {},
     "output_type": "execute_result"
    },
    {
     "data": {
      "image/png": "[encoded data removed]",
      "text/plain": [
       "<Figure size 640x480 with 1 Axes>"
      ]
     },
     "metadata": {},
     "output_type": "display_data"
    }
   ],
   "source": [
    "quakes['net'].value_counts().plot(kind='bar')"
   ]
  },
  {
   "attachments": {},
   "cell_type": "markdown",
   "metadata": {},
   "source": [
    "This column is very unbalanced and does not provide much information. Suggesting it could later be dropped."
   ]
  },
  {
   "cell_type": "code",
   "execution_count": null,
   "metadata": {},
   "outputs": [],
   "source": []
  },
  {
   "attachments": {},
   "cell_type": "markdown",
   "metadata": {},
   "source": [
    "### CDI"
   ]
  },
  {
   "attachments": {},
   "cell_type": "markdown",
   "metadata": {},
   "source": [
    "The maximum reported intensity for the event. "
   ]
  },
  {
   "cell_type": "code",
   "execution_count": 178,
   "metadata": {},
   "outputs": [
    {
     "data": {
      "image/png": "[encoded data removed]",
      "text/plain": [
       "<Figure size 640x480 with 1 Axes>"
      ]
     },
     "metadata": {},
     "output_type": "display_data"
    }
   ],
   "source": [
    "\n",
    "\n",
    "ax = sns.countplot(data=quakes, x='cdi')\n",
    "ax.bar_label(ax.containers[0])\n",
    "plt.title('Value counts for each CDI')\n",
    "plt.xlabel('CDI')\n",
    "plt.ylabel('Counts')\n",
    "plt.tight_layout()"
   ]
  },
  {
   "cell_type": "code",
   "execution_count": 190,
   "metadata": {},
   "outputs": [
    {
     "data": {
      "text/html": [
       "<div>\n",
       "<style scoped>\n",
       "    .dataframe tbody tr th:only-of-type {\n",
       "        vertical-align: middle;\n",
       "    }\n",
       "\n",
       "    .dataframe tbody tr th {\n",
       "        vertical-align: top;\n",
       "    }\n",
       "\n",
       "    .dataframe thead th {\n",
       "        text-align: right;\n",
       "    }\n",
       "</style>\n",
       "<table border=\"1\" class=\"dataframe\">\n",
       "  <thead>\n",
       "    <tr style=\"text-align: right;\">\n",
       "      <th></th>\n",
       "      <th>cdi</th>\n",
       "    </tr>\n",
       "  </thead>\n",
       "  <tbody>\n",
       "    <tr>\n",
       "      <th>count</th>\n",
       "      <td>782.000000</td>\n",
       "    </tr>\n",
       "    <tr>\n",
       "      <th>mean</th>\n",
       "      <td>4.333760</td>\n",
       "    </tr>\n",
       "    <tr>\n",
       "      <th>std</th>\n",
       "      <td>3.169939</td>\n",
       "    </tr>\n",
       "    <tr>\n",
       "      <th>min</th>\n",
       "      <td>0.000000</td>\n",
       "    </tr>\n",
       "    <tr>\n",
       "      <th>25%</th>\n",
       "      <td>0.000000</td>\n",
       "    </tr>\n",
       "    <tr>\n",
       "      <th>50%</th>\n",
       "      <td>5.000000</td>\n",
       "    </tr>\n",
       "    <tr>\n",
       "      <th>75%</th>\n",
       "      <td>7.000000</td>\n",
       "    </tr>\n",
       "    <tr>\n",
       "      <th>max</th>\n",
       "      <td>9.000000</td>\n",
       "    </tr>\n",
       "  </tbody>\n",
       "</table>\n",
       "</div>"
      ],
      "text/plain": [
       "              cdi\n",
       "count  782.000000\n",
       "mean     4.333760\n",
       "std      3.169939\n",
       "min      0.000000\n",
       "25%      0.000000\n",
       "50%      5.000000\n",
       "75%      7.000000\n",
       "max      9.000000"
      ]
     },
     "execution_count": 190,
     "metadata": {},
     "output_type": "execute_result"
    }
   ],
   "source": [
    "pd.DataFrame(quakes['cdi'].describe())"
   ]
  },
  {
   "attachments": {},
   "cell_type": "markdown",
   "metadata": {},
   "source": [
    "Makes sense that there are many zeros as there are events in which people do not feel it. "
   ]
  },
  {
   "cell_type": "markdown",
   "metadata": {},
   "source": []
  },
  {
   "attachments": {},
   "cell_type": "markdown",
   "metadata": {},
   "source": [
    "## Dmin"
   ]
  },
  {
   "attachments": {},
   "cell_type": "markdown",
   "metadata": {},
   "source": [
    "Horizontal distance from the epicenter to the nearest station (in degrees). 1 degree is approximately 111.2 kilometers. In general, the smaller this number, the more reliable is the calculated depth of the earthquake."
   ]
  },
  {
   "cell_type": "code",
   "execution_count": 192,
   "metadata": {},
   "outputs": [
    {
     "data": {
      "text/html": [
       "<div>\n",
       "<style scoped>\n",
       "    .dataframe tbody tr th:only-of-type {\n",
       "        vertical-align: middle;\n",
       "    }\n",
       "\n",
       "    .dataframe tbody tr th {\n",
       "        vertical-align: top;\n",
       "    }\n",
       "\n",
       "    .dataframe thead th {\n",
       "        text-align: right;\n",
       "    }\n",
       "</style>\n",
       "<table border=\"1\" class=\"dataframe\">\n",
       "  <thead>\n",
       "    <tr style=\"text-align: right;\">\n",
       "      <th></th>\n",
       "      <th>title</th>\n",
       "      <th>magnitude</th>\n",
       "      <th>date_time</th>\n",
       "      <th>cdi</th>\n",
       "      <th>mmi</th>\n",
       "      <th>alert</th>\n",
       "      <th>tsunami</th>\n",
       "      <th>sig</th>\n",
       "      <th>net</th>\n",
       "      <th>nst</th>\n",
       "      <th>dmin</th>\n",
       "      <th>gap</th>\n",
       "      <th>magType</th>\n",
       "      <th>depth</th>\n",
       "      <th>latitude</th>\n",
       "      <th>longitude</th>\n",
       "      <th>location</th>\n",
       "      <th>continent</th>\n",
       "      <th>country</th>\n",
       "    </tr>\n",
       "  </thead>\n",
       "  <tbody>\n",
       "    <tr>\n",
       "      <th>21</th>\n",
       "      <td>M 6.6 - 55 km WSW of Masachapa, Nicaragua</td>\n",
       "      <td>6.601562</td>\n",
       "      <td>2022-04-21 07:42:00</td>\n",
       "      <td>6</td>\n",
       "      <td>5</td>\n",
       "      <td>green</td>\n",
       "      <td>1</td>\n",
       "      <td>762</td>\n",
       "      <td>us</td>\n",
       "      <td>0</td>\n",
       "      <td>0.914062</td>\n",
       "      <td>94.0</td>\n",
       "      <td>mww</td>\n",
       "      <td>27.0</td>\n",
       "      <td>11.554688</td>\n",
       "      <td>-87.000</td>\n",
       "      <td>Masachapa, Nicaragua</td>\n",
       "      <td>NaN</td>\n",
       "      <td>NaN</td>\n",
       "    </tr>\n",
       "    <tr>\n",
       "      <th>22</th>\n",
       "      <td>M 7.0 - southeast of the Loyalty Islands</td>\n",
       "      <td>7.000000</td>\n",
       "      <td>2022-03-31 05:44:00</td>\n",
       "      <td>6</td>\n",
       "      <td>4</td>\n",
       "      <td>green</td>\n",
       "      <td>1</td>\n",
       "      <td>763</td>\n",
       "      <td>us</td>\n",
       "      <td>0</td>\n",
       "      <td>2.705078</td>\n",
       "      <td>26.0</td>\n",
       "      <td>mww</td>\n",
       "      <td>10.0</td>\n",
       "      <td>-22.578125</td>\n",
       "      <td>170.375</td>\n",
       "      <td>the Loyalty Islands</td>\n",
       "      <td>NaN</td>\n",
       "      <td>NaN</td>\n",
       "    </tr>\n",
       "    <tr>\n",
       "      <th>23</th>\n",
       "      <td>M 6.9 - 284 km ESE of Tadine, New Caledonia</td>\n",
       "      <td>6.898438</td>\n",
       "      <td>2022-03-30 20:56:00</td>\n",
       "      <td>6</td>\n",
       "      <td>4</td>\n",
       "      <td>green</td>\n",
       "      <td>1</td>\n",
       "      <td>738</td>\n",
       "      <td>us</td>\n",
       "      <td>0</td>\n",
       "      <td>2.697266</td>\n",
       "      <td>42.0</td>\n",
       "      <td>mww</td>\n",
       "      <td>10.0</td>\n",
       "      <td>-22.718750</td>\n",
       "      <td>170.250</td>\n",
       "      <td>Tadine, New Caledonia</td>\n",
       "      <td>NaN</td>\n",
       "      <td>NaN</td>\n",
       "    </tr>\n",
       "    <tr>\n",
       "      <th>24</th>\n",
       "      <td>M 6.7 - 65 km S of Hualien City, Taiwan</td>\n",
       "      <td>6.699219</td>\n",
       "      <td>2022-03-22 17:41:00</td>\n",
       "      <td>8</td>\n",
       "      <td>7</td>\n",
       "      <td>green</td>\n",
       "      <td>1</td>\n",
       "      <td>806</td>\n",
       "      <td>us</td>\n",
       "      <td>0</td>\n",
       "      <td>0.289062</td>\n",
       "      <td>32.0</td>\n",
       "      <td>mww</td>\n",
       "      <td>24.0</td>\n",
       "      <td>23.343750</td>\n",
       "      <td>121.625</td>\n",
       "      <td>Hualien City, Taiwan</td>\n",
       "      <td>Asia</td>\n",
       "      <td>Taiwan</td>\n",
       "    </tr>\n",
       "    <tr>\n",
       "      <th>25</th>\n",
       "      <td>M 7.3 - 57 km ENE of Namie, Japan</td>\n",
       "      <td>7.300781</td>\n",
       "      <td>2022-03-16 14:36:00</td>\n",
       "      <td>9</td>\n",
       "      <td>8</td>\n",
       "      <td>red</td>\n",
       "      <td>1</td>\n",
       "      <td>2397</td>\n",
       "      <td>us</td>\n",
       "      <td>0</td>\n",
       "      <td>2.935547</td>\n",
       "      <td>29.0</td>\n",
       "      <td>mww</td>\n",
       "      <td>41.0</td>\n",
       "      <td>37.687500</td>\n",
       "      <td>141.625</td>\n",
       "      <td>Namie, Japan</td>\n",
       "      <td>NaN</td>\n",
       "      <td>NaN</td>\n",
       "    </tr>\n",
       "  </tbody>\n",
       "</table>\n",
       "</div>"
      ],
      "text/plain": [
       "                                          title  magnitude  \\\n",
       "21    M 6.6 - 55 km WSW of Masachapa, Nicaragua   6.601562   \n",
       "22     M 7.0 - southeast of the Loyalty Islands   7.000000   \n",
       "23  M 6.9 - 284 km ESE of Tadine, New Caledonia   6.898438   \n",
       "24      M 6.7 - 65 km S of Hualien City, Taiwan   6.699219   \n",
       "25            M 7.3 - 57 km ENE of Namie, Japan   7.300781   \n",
       "\n",
       "             date_time  cdi  mmi  alert  tsunami   sig net  nst      dmin  \\\n",
       "21 2022-04-21 07:42:00    6    5  green        1   762  us    0  0.914062   \n",
       "22 2022-03-31 05:44:00    6    4  green        1   763  us    0  2.705078   \n",
       "23 2022-03-30 20:56:00    6    4  green        1   738  us    0  2.697266   \n",
       "24 2022-03-22 17:41:00    8    7  green        1   806  us    0  0.289062   \n",
       "25 2022-03-16 14:36:00    9    8    red        1  2397  us    0  2.935547   \n",
       "\n",
       "     gap magType  depth   latitude  longitude               location  \\\n",
       "21  94.0     mww   27.0  11.554688    -87.000   Masachapa, Nicaragua   \n",
       "22  26.0     mww   10.0 -22.578125    170.375    the Loyalty Islands   \n",
       "23  42.0     mww   10.0 -22.718750    170.250  Tadine, New Caledonia   \n",
       "24  32.0     mww   24.0  23.343750    121.625   Hualien City, Taiwan   \n",
       "25  29.0     mww   41.0  37.687500    141.625           Namie, Japan   \n",
       "\n",
       "   continent country  \n",
       "21       NaN     NaN  \n",
       "22       NaN     NaN  \n",
       "23       NaN     NaN  \n",
       "24      Asia  Taiwan  \n",
       "25       NaN     NaN  "
      ]
     },
     "execution_count": 192,
     "metadata": {},
     "output_type": "execute_result"
    }
   ],
   "source": [
    "quakes[quakes.nst == 0].head()"
   ]
  },
  {
   "cell_type": "markdown",
   "metadata": {},
   "source": []
  },
  {
   "cell_type": "code",
   "execution_count": 211,
   "metadata": {},
   "outputs": [
    {
     "data": {
      "image/png": "[encoded data removed]",
      "text/plain": [
       "<Figure size 1200x600 with 2 Axes>"
      ]
     },
     "metadata": {},
     "output_type": "display_data"
    }
   ],
   "source": [
    "fig, axes = plt.subplots(ncols=2, figsize=(12,6))\n",
    "sns.histplot(quakes.dmin, kde=True, ax=axes[0])\n",
    "axes[0].set_title('Dmin Distribution')\n",
    "\n",
    "sns.boxplot(data=quakes, x='dmin', ax=axes[1])\n",
    "axes[1].set_title('Dmin Boxplot')\n",
    "\n",
    "plt.tight_layout()"
   ]
  },
  {
   "cell_type": "code",
   "execution_count": null,
   "metadata": {},
   "outputs": [],
   "source": []
  }
 ],
 "metadata": {
  "kernelspec": {
   "display_name": "compost",
   "language": "python",
   "name": "python3"
  },
  "language_info": {
   "codemirror_mode": {
    "name": "ipython",
    "version": 3
   },
   "file_extension": ".py",
   "mimetype": "text/x-python",
   "name": "python",
   "nbconvert_exporter": "python",
   "pygments_lexer": "ipython3",
   "version": "3.9.15"
  },
  "orig_nbformat": 4
 },
 "nbformat": 4,
 "nbformat_minor": 2
}
